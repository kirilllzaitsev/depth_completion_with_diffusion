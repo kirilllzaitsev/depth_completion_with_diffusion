{
 "cells": [
  {
   "cell_type": "code",
   "execution_count": 1,
   "metadata": {},
   "outputs": [],
   "source": [
    "import numpy as np\n",
    "import matplotlib.pyplot as plt\n",
    "import os\n",
    "from pathlib import Path\n",
    "import comet_ml\n",
    "import torch\n",
    "from torchvision import transforms\n",
    "from rsl_depth_completion.diffusion.utils import set_seed\n",
    "\n",
    "from pathlib import Path\n",
    "import shutil\n",
    "import numpy as np\n",
    "\n",
    "from kbnet import data_utils\n",
    "import yaml\n",
    "import argparse\n",
    "from utils import plot_sample\n",
    "import tensorflow as tf\n",
    "from pathlib import Path\n",
    "from torchvision.utils import save_image\n",
    "from tqdm.auto import tqdm\n",
    "from PIL import Image\n",
    "import torch.optim as optim"
   ]
  },
  {
   "cell_type": "code",
   "execution_count": null,
   "metadata": {},
   "outputs": [],
   "source": []
  }
 ],
 "metadata": {
  "kernelspec": {
   "display_name": "ssdc",
   "language": "python",
   "name": "python3"
  },
  "language_info": {
   "codemirror_mode": {
    "name": "ipython",
    "version": 3
   },
   "file_extension": ".py",
   "mimetype": "text/x-python",
   "name": "python",
   "nbconvert_exporter": "python",
   "pygments_lexer": "ipython3",
   "version": "3.10.11"
  },
  "orig_nbformat": 4
 },
 "nbformat": 4,
 "nbformat_minor": 2
}
