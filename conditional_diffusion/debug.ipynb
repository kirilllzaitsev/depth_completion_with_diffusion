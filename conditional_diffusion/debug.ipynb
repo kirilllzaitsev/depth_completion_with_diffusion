{
 "cells": [
  {
   "cell_type": "code",
   "execution_count": 1,
   "metadata": {},
   "outputs": [],
   "source": [
    "# from imagen_pytorch import Imagen, Unet\n",
    "# from rsl_depth_completion.conditional_diffusion.utils import log_params_to_exp\n",
    "# timesteps=200\n",
    "# unet_base_params = dict(\n",
    "#     dim=64,\n",
    "#     dim_mults=[1, 1, 2, 4],\n",
    "#     channels=1,\n",
    "#     channels_out=None,\n",
    "#     text_embed_dim=512,\n",
    "#     num_resnet_blocks=2,\n",
    "#     layer_attns=[True, True, True, True,],\n",
    "#     layer_cross_attns=[True, True, True, True, ],\n",
    "#     attn_heads=8,\n",
    "#     lowres_cond=True,\n",
    "#     memory_efficient=False,\n",
    "#     attend_at_middle=False,\n",
    "#     cond_dim=None,\n",
    "#     cond_images_channels=1,\n",
    "# )\n",
    "# imagen_params = dict(\n",
    "#     text_embed_dim=512,\n",
    "#     channels=1,\n",
    "#     timesteps=timesteps,\n",
    "#     loss_type=\"l2\",\n",
    "#     lowres_sample_noise_level=0.2,\n",
    "#     dynamic_thresholding_percentile=0.9,\n",
    "#     only_train_unet_number=None,\n",
    "#     image_sizes=[64],\n",
    "#     text_encoder_name=\"google/t5-v1_1-base\",\n",
    "#     auto_normalize_img=False,\n",
    "#     cond_drop_prob=0.1,\n",
    "#     condition_on_text=False,\n",
    "#     # pred_objectives=\"x_start\",\n",
    "# )\n",
    "\n",
    "\n",
    "# unet_base = Unet(**unet_base_params)\n",
    "# unets = [unet_base]\n",
    "\n",
    "# imagen = Imagen(unets=unets, **imagen_params)\n",
    "# print(sum(p.numel() for p in imagen.parameters() if p.requires_grad))"
   ]
  },
  {
   "cell_type": "code",
   "execution_count": 2,
   "metadata": {},
   "outputs": [
    {
     "data": {
      "text/plain": [
       "'2_909_188'"
      ]
     },
     "execution_count": 2,
     "metadata": {},
     "output_type": "execute_result"
    }
   ],
   "source": [
    "# from pprint import pprint\n",
    "# largest contribution - dim_mults\n",
    "init = 29305346\n",
    "minus_1_midlayer_dimmul_2 = init-26396158\n",
    "\"{:_}\".format(minus_1_midlayer_dimmul_2)"
   ]
  },
  {
   "cell_type": "code",
   "execution_count": 3,
   "metadata": {},
   "outputs": [
    {
     "name": "stderr",
     "output_type": "stream",
     "text": [
      "Found cached dataset fashion_mnist (/media/master/wext/cv_data/hf_home/datasets/fashion_mnist/fashion_mnist/1.0.0/0a671f063342996f19779d38c0ab4abef9c64f757b35af8134b331c294d7ba48)\n"
     ]
    },
    {
     "data": {
      "application/vnd.jupyter.widget-view+json": {
       "model_id": "8e201e2a87564ce59f47c70281347e98",
       "version_major": 2,
       "version_minor": 0
      },
      "text/plain": [
       "  0%|          | 0/2 [00:00<?, ?it/s]"
      ]
     },
     "metadata": {},
     "output_type": "display_data"
    }
   ],
   "source": [
    "import os\n",
    "from pathlib import Path\n",
    "\n",
    "import comet_ml\n",
    "import tensorflow as tf\n",
    "import torch\n",
    "import torch.optim as optim\n",
    "from load_data import load_data\n",
    "from rsl_depth_completion.conditional_diffusion.config import cfg\n",
    "from rsl_depth_completion.conditional_diffusion.utils import log_params_to_exp\n",
    "from rsl_depth_completion.diffusion.utils import set_seed\n",
    "\n",
    "set_seed(cfg.seed)\n",
    "torch.backends.cudnn.benchmark = True\n",
    "\n",
    "if cfg.is_cluster:\n",
    "    if not os.path.exists(f\"{cfg.tmpdir}/cluster\"):\n",
    "        os.system(f\"tar -xvf /cluster/project/rsl/kzaitsev/dataset.tar -C {cfg.tmpdir}\")\n",
    "\n",
    "import itertools\n",
    "import shutil\n",
    "\n",
    "\n",
    "def product_dict(**kwargs):\n",
    "    keys = kwargs.keys()\n",
    "    for instance in itertools.product(*kwargs.values()):\n",
    "        yield dict(zip(keys, instance))\n",
    "\n",
    "\n",
    "logdir = Path(\"./logs\") if not cfg.is_cluster else Path(cfg.tmpdir) / \"logs\"\n",
    "if cfg.do_debug:\n",
    "    logdir = logdir / \"debug2\"\n",
    "else:\n",
    "    logdir = logdir / \"train\"\n",
    "\n",
    "# shutil.rmtree(logdir,ignore_errors=True)"
   ]
  },
  {
   "cell_type": "code",
   "execution_count": 4,
   "metadata": {},
   "outputs": [
    {
     "data": {
      "text/plain": [
       "[{'use_text_embed': False,\n",
       "  'use_cond_image': False,\n",
       "  'use_rgb_as_cond_image': False}]"
      ]
     },
     "execution_count": 4,
     "metadata": {},
     "output_type": "execute_result"
    }
   ],
   "source": [
    "\n",
    "ds_params_full = product_dict(\n",
    "    use_text_embed=[True, False],\n",
    "    use_cond_image=[True, False],\n",
    "    use_rgb_as_cond_image=[True, False],\n",
    ")\n",
    "ds_params = [\n",
    "    list(ds_params_full)[-1]\n",
    "]\n",
    "ds_params"
   ]
  },
  {
   "cell_type": "code",
   "execution_count": 5,
   "metadata": {},
   "outputs": [
    {
     "name": "stdout",
     "output_type": "stream",
     "text": [
      "{'use_text_embed': False, 'use_cond_image': False, 'use_rgb_as_cond_image': False, 'use_rgb_as_text_embed': True, 'include_sdm_and_rgb_in_sample': True, 'do_crop': True}\n"
     ]
    },
    {
     "name": "stderr",
     "output_type": "stream",
     "text": [
      "\u001b[1;38;5;214mCOMET WARNING:\u001b[0m As you are running in a Jupyter environment, you will need to call `experiment.end()` when finished to ensure all metrics and code are logged before exiting.\n"
     ]
    },
    {
     "name": "stdout",
     "output_type": "stream",
     "text": [
      "Number of train samples 1\n",
      "The base dimension of your u-net should ideally be no smaller than 128, as recommended by a professional DDPM trainer https://nonint.com/2022/05/04/friends-dont-let-friends-train-small-diffusion-models/\n",
      "Number of parameters in model 29185282\n"
     ]
    },
    {
     "name": "stderr",
     "output_type": "stream",
     "text": [
      "Epoch 1:   0%|          | 2/800 [00:02<27:04,  2.04s/it, diff_to_orig_img=0.286, loss=0.381]"
     ]
    },
    {
     "name": "stdout",
     "output_type": "stream",
     "text": [
      "Epoch: 1\t{'loss': 0.38103875517845154, 'diff_to_orig_img': 0.28579121828079224}\n"
     ]
    },
    {
     "data": {
      "application/vnd.jupyter.widget-view+json": {
       "model_id": "d89bce7527b040eca6ded1c29c5cfb9b",
       "version_major": 2,
       "version_minor": 0
      },
      "text/plain": [
       "0it [00:00, ?it/s]"
      ]
     },
     "metadata": {},
     "output_type": "display_data"
    },
    {
     "data": {
      "application/vnd.jupyter.widget-view+json": {
       "model_id": "41f163c51b6348b3b4c21ae711bdc3c3",
       "version_major": 2,
       "version_minor": 0
      },
      "text/plain": [
       "sampling loop time step:   0%|          | 0/200 [00:00<?, ?it/s]"
      ]
     },
     "metadata": {},
     "output_type": "display_data"
    },
    {
     "name": "stderr",
     "output_type": "stream",
     "text": [
      "Epoch 21:   3%|▎         | 22/800 [00:10<01:39,  7.86it/s, diff_to_orig_img=0.00544, loss=0.00735]"
     ]
    },
    {
     "name": "stdout",
     "output_type": "stream",
     "text": [
      "Epoch: 21\t{'loss': 0.007350199855864048, 'diff_to_orig_img': 0.005435341037809849}\n"
     ]
    },
    {
     "data": {
      "application/vnd.jupyter.widget-view+json": {
       "model_id": "3b9b2275a7f044f4bbdb6b4616f66231",
       "version_major": 2,
       "version_minor": 0
      },
      "text/plain": [
       "0it [00:00, ?it/s]"
      ]
     },
     "metadata": {},
     "output_type": "display_data"
    },
    {
     "data": {
      "application/vnd.jupyter.widget-view+json": {
       "model_id": "bf91cd07264e4890a22c34990df1318d",
       "version_major": 2,
       "version_minor": 0
      },
      "text/plain": [
       "sampling loop time step:   0%|          | 0/200 [00:00<?, ?it/s]"
      ]
     },
     "metadata": {},
     "output_type": "display_data"
    },
    {
     "name": "stderr",
     "output_type": "stream",
     "text": [
      "Epoch 41:   5%|▌         | 42/800 [00:18<01:29,  8.51it/s, diff_to_orig_img=0.853, loss=0.172]    "
     ]
    },
    {
     "name": "stdout",
     "output_type": "stream",
     "text": [
      "Epoch: 41\t{'loss': 0.1717161238193512, 'diff_to_orig_img': 0.8526341915130615}\n"
     ]
    },
    {
     "data": {
      "application/vnd.jupyter.widget-view+json": {
       "model_id": "bbfa04383e63451e802c55212fc455bc",
       "version_major": 2,
       "version_minor": 0
      },
      "text/plain": [
       "0it [00:00, ?it/s]"
      ]
     },
     "metadata": {},
     "output_type": "display_data"
    },
    {
     "data": {
      "application/vnd.jupyter.widget-view+json": {
       "model_id": "11767fa843484937b2ab4b1f77985f63",
       "version_major": 2,
       "version_minor": 0
      },
      "text/plain": [
       "sampling loop time step:   0%|          | 0/200 [00:00<?, ?it/s]"
      ]
     },
     "metadata": {},
     "output_type": "display_data"
    },
    {
     "name": "stderr",
     "output_type": "stream",
     "text": [
      "Epoch 61:   8%|▊         | 62/800 [00:26<01:27,  8.47it/s, diff_to_orig_img=0.509, loss=0.0796]"
     ]
    },
    {
     "name": "stdout",
     "output_type": "stream",
     "text": [
      "Epoch: 61\t{'loss': 0.07956642657518387, 'diff_to_orig_img': 0.5085137486457825}\n"
     ]
    },
    {
     "data": {
      "application/vnd.jupyter.widget-view+json": {
       "model_id": "87cdb6ca203641899b9f08e8c42d989d",
       "version_major": 2,
       "version_minor": 0
      },
      "text/plain": [
       "0it [00:00, ?it/s]"
      ]
     },
     "metadata": {},
     "output_type": "display_data"
    },
    {
     "data": {
      "application/vnd.jupyter.widget-view+json": {
       "model_id": "762fbd7d31184d80bf98b3d685f70b19",
       "version_major": 2,
       "version_minor": 0
      },
      "text/plain": [
       "sampling loop time step:   0%|          | 0/200 [00:00<?, ?it/s]"
      ]
     },
     "metadata": {},
     "output_type": "display_data"
    },
    {
     "name": "stderr",
     "output_type": "stream",
     "text": [
      "Epoch 81:  10%|█         | 82/800 [00:35<01:25,  8.38it/s, diff_to_orig_img=1, loss=0.0451]    "
     ]
    },
    {
     "name": "stdout",
     "output_type": "stream",
     "text": [
      "Epoch: 81\t{'loss': 0.04511051997542381, 'diff_to_orig_img': 1.0009032487869263}\n",
      "Epoch 00005: reducing learning rate of group 0 to 5.0000e-05.\n"
     ]
    },
    {
     "data": {
      "application/vnd.jupyter.widget-view+json": {
       "model_id": "5d38b646ebb440d39188a0a77a17a9ff",
       "version_major": 2,
       "version_minor": 0
      },
      "text/plain": [
       "0it [00:00, ?it/s]"
      ]
     },
     "metadata": {},
     "output_type": "display_data"
    },
    {
     "data": {
      "application/vnd.jupyter.widget-view+json": {
       "model_id": "d739cfb67a8f47f082d5ab11b89339b9",
       "version_major": 2,
       "version_minor": 0
      },
      "text/plain": [
       "sampling loop time step:   0%|          | 0/200 [00:00<?, ?it/s]"
      ]
     },
     "metadata": {},
     "output_type": "display_data"
    },
    {
     "name": "stderr",
     "output_type": "stream",
     "text": [
      "Epoch 101:  13%|█▎        | 102/800 [00:43<01:21,  8.52it/s, diff_to_orig_img=1.04, loss=0.0405]"
     ]
    },
    {
     "name": "stdout",
     "output_type": "stream",
     "text": [
      "Epoch: 101\t{'loss': 0.04051118344068527, 'diff_to_orig_img': 1.035682201385498}\n"
     ]
    },
    {
     "data": {
      "application/vnd.jupyter.widget-view+json": {
       "model_id": "50f081e297d44655bbd62bde999fb87b",
       "version_major": 2,
       "version_minor": 0
      },
      "text/plain": [
       "0it [00:00, ?it/s]"
      ]
     },
     "metadata": {},
     "output_type": "display_data"
    },
    {
     "data": {
      "application/vnd.jupyter.widget-view+json": {
       "model_id": "f1f0608a9afa405ea45d95024c6137c9",
       "version_major": 2,
       "version_minor": 0
      },
      "text/plain": [
       "sampling loop time step:   0%|          | 0/200 [00:00<?, ?it/s]"
      ]
     },
     "metadata": {},
     "output_type": "display_data"
    },
    {
     "name": "stderr",
     "output_type": "stream",
     "text": [
      "Epoch 121:  15%|█▌        | 122/800 [00:51<01:19,  8.58it/s, diff_to_orig_img=0.01, loss=0.00654]"
     ]
    },
    {
     "name": "stdout",
     "output_type": "stream",
     "text": [
      "Epoch: 121\t{'loss': 0.006535104475915432, 'diff_to_orig_img': 0.010044321417808533}\n"
     ]
    },
    {
     "data": {
      "application/vnd.jupyter.widget-view+json": {
       "model_id": "aa2b2b4e1f6449269589e4a68127951a",
       "version_major": 2,
       "version_minor": 0
      },
      "text/plain": [
       "0it [00:00, ?it/s]"
      ]
     },
     "metadata": {},
     "output_type": "display_data"
    },
    {
     "data": {
      "application/vnd.jupyter.widget-view+json": {
       "model_id": "64cf13567e6348148de5ccff9af0d06b",
       "version_major": 2,
       "version_minor": 0
      },
      "text/plain": [
       "sampling loop time step:   0%|          | 0/200 [00:00<?, ?it/s]"
      ]
     },
     "metadata": {},
     "output_type": "display_data"
    },
    {
     "name": "stderr",
     "output_type": "stream",
     "text": [
      "Epoch 141:  18%|█▊        | 142/800 [01:00<01:22,  7.99it/s, diff_to_orig_img=1.02, loss=0.0434] "
     ]
    },
    {
     "name": "stdout",
     "output_type": "stream",
     "text": [
      "Epoch: 141\t{'loss': 0.04344000667333603, 'diff_to_orig_img': 1.0240025520324707}\n"
     ]
    },
    {
     "data": {
      "application/vnd.jupyter.widget-view+json": {
       "model_id": "4c3e7e0285004941b6bfea918c56ed37",
       "version_major": 2,
       "version_minor": 0
      },
      "text/plain": [
       "0it [00:00, ?it/s]"
      ]
     },
     "metadata": {},
     "output_type": "display_data"
    },
    {
     "data": {
      "application/vnd.jupyter.widget-view+json": {
       "model_id": "58b44e29ca24426a89d320c0488b19dd",
       "version_major": 2,
       "version_minor": 0
      },
      "text/plain": [
       "sampling loop time step:   0%|          | 0/200 [00:00<?, ?it/s]"
      ]
     },
     "metadata": {},
     "output_type": "display_data"
    },
    {
     "name": "stderr",
     "output_type": "stream",
     "text": [
      "Epoch 161:  20%|██        | 162/800 [01:08<01:15,  8.46it/s, diff_to_orig_img=0.111, loss=0.0246]"
     ]
    },
    {
     "name": "stdout",
     "output_type": "stream",
     "text": [
      "Epoch: 161\t{'loss': 0.02457127906382084, 'diff_to_orig_img': 0.11069325357675552}\n"
     ]
    },
    {
     "data": {
      "application/vnd.jupyter.widget-view+json": {
       "model_id": "b8df53572b1342828dae44b2af6455bc",
       "version_major": 2,
       "version_minor": 0
      },
      "text/plain": [
       "0it [00:00, ?it/s]"
      ]
     },
     "metadata": {},
     "output_type": "display_data"
    },
    {
     "data": {
      "application/vnd.jupyter.widget-view+json": {
       "model_id": "c531d6175e9c4046953e17c0288881fe",
       "version_major": 2,
       "version_minor": 0
      },
      "text/plain": [
       "sampling loop time step:   0%|          | 0/200 [00:00<?, ?it/s]"
      ]
     },
     "metadata": {},
     "output_type": "display_data"
    },
    {
     "name": "stderr",
     "output_type": "stream",
     "text": [
      "Epoch 181:  23%|██▎       | 182/800 [01:16<01:12,  8.58it/s, diff_to_orig_img=1.02, loss=0.0494] "
     ]
    },
    {
     "name": "stdout",
     "output_type": "stream",
     "text": [
      "Epoch: 181\t{'loss': 0.049445316195487976, 'diff_to_orig_img': 1.0244207382202148}\n",
      "Epoch 00010: reducing learning rate of group 0 to 2.5000e-05.\n"
     ]
    },
    {
     "data": {
      "application/vnd.jupyter.widget-view+json": {
       "model_id": "4966be8e3ed5444fa2c43ad680fc0cf6",
       "version_major": 2,
       "version_minor": 0
      },
      "text/plain": [
       "0it [00:00, ?it/s]"
      ]
     },
     "metadata": {},
     "output_type": "display_data"
    },
    {
     "data": {
      "application/vnd.jupyter.widget-view+json": {
       "model_id": "a102821072284c61b416cd1bda79d26d",
       "version_major": 2,
       "version_minor": 0
      },
      "text/plain": [
       "sampling loop time step:   0%|          | 0/200 [00:00<?, ?it/s]"
      ]
     },
     "metadata": {},
     "output_type": "display_data"
    },
    {
     "name": "stderr",
     "output_type": "stream",
     "text": [
      "Epoch 201:  25%|██▌       | 202/800 [01:24<01:08,  8.68it/s, diff_to_orig_img=1.06, loss=0.0299]"
     ]
    },
    {
     "name": "stdout",
     "output_type": "stream",
     "text": [
      "Epoch: 201\t{'loss': 0.029922004789114, 'diff_to_orig_img': 1.0618712902069092}\n"
     ]
    },
    {
     "data": {
      "application/vnd.jupyter.widget-view+json": {
       "model_id": "20a66935165140a6b860c17d5a663acc",
       "version_major": 2,
       "version_minor": 0
      },
      "text/plain": [
       "0it [00:00, ?it/s]"
      ]
     },
     "metadata": {},
     "output_type": "display_data"
    },
    {
     "data": {
      "application/vnd.jupyter.widget-view+json": {
       "model_id": "38bfeea0e9714a34b99a728c7f09e082",
       "version_major": 2,
       "version_minor": 0
      },
      "text/plain": [
       "sampling loop time step:   0%|          | 0/200 [00:00<?, ?it/s]"
      ]
     },
     "metadata": {},
     "output_type": "display_data"
    },
    {
     "name": "stderr",
     "output_type": "stream",
     "text": [
      "Epoch 221:  28%|██▊       | 222/800 [01:32<01:06,  8.68it/s, diff_to_orig_img=0.269, loss=0.0328]"
     ]
    },
    {
     "name": "stdout",
     "output_type": "stream",
     "text": [
      "Epoch: 221\t{'loss': 0.03282734006643295, 'diff_to_orig_img': 0.2687595784664154}\n"
     ]
    },
    {
     "data": {
      "application/vnd.jupyter.widget-view+json": {
       "model_id": "86e297cfffd64697bede1743e270eec0",
       "version_major": 2,
       "version_minor": 0
      },
      "text/plain": [
       "0it [00:00, ?it/s]"
      ]
     },
     "metadata": {},
     "output_type": "display_data"
    },
    {
     "data": {
      "application/vnd.jupyter.widget-view+json": {
       "model_id": "c7f716ef8dc3495788234395ac2713aa",
       "version_major": 2,
       "version_minor": 0
      },
      "text/plain": [
       "sampling loop time step:   0%|          | 0/200 [00:00<?, ?it/s]"
      ]
     },
     "metadata": {},
     "output_type": "display_data"
    },
    {
     "name": "stderr",
     "output_type": "stream",
     "text": [
      "Epoch 241:  30%|███       | 242/800 [01:40<01:04,  8.61it/s, diff_to_orig_img=1.02, loss=0.0379] "
     ]
    },
    {
     "name": "stdout",
     "output_type": "stream",
     "text": [
      "Epoch: 241\t{'loss': 0.03785659000277519, 'diff_to_orig_img': 1.0208330154418945}\n",
      "Epoch 00013: reducing learning rate of group 0 to 1.2500e-05.\n"
     ]
    },
    {
     "data": {
      "application/vnd.jupyter.widget-view+json": {
       "model_id": "aec0c0c9c6e3483ea73cc6ecbd1d95cf",
       "version_major": 2,
       "version_minor": 0
      },
      "text/plain": [
       "0it [00:00, ?it/s]"
      ]
     },
     "metadata": {},
     "output_type": "display_data"
    },
    {
     "data": {
      "application/vnd.jupyter.widget-view+json": {
       "model_id": "27a606466eab45c181caf240de1dd57e",
       "version_major": 2,
       "version_minor": 0
      },
      "text/plain": [
       "sampling loop time step:   0%|          | 0/200 [00:00<?, ?it/s]"
      ]
     },
     "metadata": {},
     "output_type": "display_data"
    },
    {
     "name": "stderr",
     "output_type": "stream",
     "text": [
      "Epoch 261:  33%|███▎      | 262/800 [01:48<01:11,  7.50it/s, diff_to_orig_img=1.03, loss=0.025] "
     ]
    },
    {
     "name": "stdout",
     "output_type": "stream",
     "text": [
      "Epoch: 261\t{'loss': 0.024966387078166008, 'diff_to_orig_img': 1.0324538946151733}\n"
     ]
    },
    {
     "data": {
      "application/vnd.jupyter.widget-view+json": {
       "model_id": "28b40faa79384440bd783314fd83df3d",
       "version_major": 2,
       "version_minor": 0
      },
      "text/plain": [
       "0it [00:00, ?it/s]"
      ]
     },
     "metadata": {},
     "output_type": "display_data"
    },
    {
     "data": {
      "application/vnd.jupyter.widget-view+json": {
       "model_id": "3ef16212639f4fb8af4d42e06db9ff5f",
       "version_major": 2,
       "version_minor": 0
      },
      "text/plain": [
       "sampling loop time step:   0%|          | 0/200 [00:00<?, ?it/s]"
      ]
     },
     "metadata": {},
     "output_type": "display_data"
    },
    {
     "name": "stderr",
     "output_type": "stream",
     "text": [
      "Epoch 281:  35%|███▌      | 282/800 [01:56<01:02,  8.26it/s, diff_to_orig_img=1.04, loss=0.0294]"
     ]
    },
    {
     "name": "stdout",
     "output_type": "stream",
     "text": [
      "Epoch: 281\t{'loss': 0.029418636113405228, 'diff_to_orig_img': 1.0442333221435547}\n"
     ]
    },
    {
     "data": {
      "application/vnd.jupyter.widget-view+json": {
       "model_id": "e61a1976defd410c9ae66b92c880fe96",
       "version_major": 2,
       "version_minor": 0
      },
      "text/plain": [
       "0it [00:00, ?it/s]"
      ]
     },
     "metadata": {},
     "output_type": "display_data"
    },
    {
     "data": {
      "application/vnd.jupyter.widget-view+json": {
       "model_id": "bd43b8d013b345edaee1d7355abda0d1",
       "version_major": 2,
       "version_minor": 0
      },
      "text/plain": [
       "sampling loop time step:   0%|          | 0/200 [00:00<?, ?it/s]"
      ]
     },
     "metadata": {},
     "output_type": "display_data"
    },
    {
     "name": "stderr",
     "output_type": "stream",
     "text": [
      "Epoch 301:  38%|███▊      | 302/800 [02:04<00:57,  8.59it/s, diff_to_orig_img=1.02, loss=0.0305]"
     ]
    },
    {
     "name": "stdout",
     "output_type": "stream",
     "text": [
      "Epoch: 301\t{'loss': 0.030531976372003555, 'diff_to_orig_img': 1.0209600925445557}\n",
      "Epoch 00016: reducing learning rate of group 0 to 6.2500e-06.\n"
     ]
    },
    {
     "data": {
      "application/vnd.jupyter.widget-view+json": {
       "model_id": "a4283d64197d4f64bdda18228006f23a",
       "version_major": 2,
       "version_minor": 0
      },
      "text/plain": [
       "0it [00:00, ?it/s]"
      ]
     },
     "metadata": {},
     "output_type": "display_data"
    },
    {
     "data": {
      "application/vnd.jupyter.widget-view+json": {
       "model_id": "164983c1f30f49de95232a271ae56c0b",
       "version_major": 2,
       "version_minor": 0
      },
      "text/plain": [
       "sampling loop time step:   0%|          | 0/200 [00:00<?, ?it/s]"
      ]
     },
     "metadata": {},
     "output_type": "display_data"
    },
    {
     "name": "stderr",
     "output_type": "stream",
     "text": [
      "Epoch 321:  40%|████      | 322/800 [02:13<00:55,  8.64it/s, diff_to_orig_img=0.186, loss=0.0233]"
     ]
    },
    {
     "name": "stdout",
     "output_type": "stream",
     "text": [
      "Epoch: 321\t{'loss': 0.0232857633382082, 'diff_to_orig_img': 0.18558894097805023}\n"
     ]
    },
    {
     "data": {
      "application/vnd.jupyter.widget-view+json": {
       "model_id": "9a5e4d19b30a49c8ab5af62b1192bbda",
       "version_major": 2,
       "version_minor": 0
      },
      "text/plain": [
       "0it [00:00, ?it/s]"
      ]
     },
     "metadata": {},
     "output_type": "display_data"
    },
    {
     "data": {
      "application/vnd.jupyter.widget-view+json": {
       "model_id": "5b33e0d028ef4f3294f8b28d202db18a",
       "version_major": 2,
       "version_minor": 0
      },
      "text/plain": [
       "sampling loop time step:   0%|          | 0/200 [00:00<?, ?it/s]"
      ]
     },
     "metadata": {},
     "output_type": "display_data"
    },
    {
     "name": "stderr",
     "output_type": "stream",
     "text": [
      "Epoch 341:  43%|████▎     | 342/800 [02:21<00:53,  8.51it/s, diff_to_orig_img=1.02, loss=0.0318] "
     ]
    },
    {
     "name": "stdout",
     "output_type": "stream",
     "text": [
      "Epoch: 341\t{'loss': 0.03176114708185196, 'diff_to_orig_img': 1.0167975425720215}\n"
     ]
    },
    {
     "data": {
      "application/vnd.jupyter.widget-view+json": {
       "model_id": "34f02ed72f724ab19fd0bb714d62ffd5",
       "version_major": 2,
       "version_minor": 0
      },
      "text/plain": [
       "0it [00:00, ?it/s]"
      ]
     },
     "metadata": {},
     "output_type": "display_data"
    },
    {
     "data": {
      "application/vnd.jupyter.widget-view+json": {
       "model_id": "8859c2d824d140d28dae41015ee5bb67",
       "version_major": 2,
       "version_minor": 0
      },
      "text/plain": [
       "sampling loop time step:   0%|          | 0/200 [00:00<?, ?it/s]"
      ]
     },
     "metadata": {},
     "output_type": "display_data"
    },
    {
     "name": "stderr",
     "output_type": "stream",
     "text": [
      "Epoch 361:  45%|████▌     | 362/800 [02:29<00:51,  8.57it/s, diff_to_orig_img=0.26, loss=0.0244]"
     ]
    },
    {
     "name": "stdout",
     "output_type": "stream",
     "text": [
      "Epoch: 361\t{'loss': 0.024403998628258705, 'diff_to_orig_img': 0.25981318950653076}\n",
      "Epoch 00019: reducing learning rate of group 0 to 3.1250e-06.\n"
     ]
    },
    {
     "data": {
      "application/vnd.jupyter.widget-view+json": {
       "model_id": "1e408c3e3b2d4da3b046cef95f6e36aa",
       "version_major": 2,
       "version_minor": 0
      },
      "text/plain": [
       "0it [00:00, ?it/s]"
      ]
     },
     "metadata": {},
     "output_type": "display_data"
    },
    {
     "data": {
      "application/vnd.jupyter.widget-view+json": {
       "model_id": "13836331e9ac4494b1a636a65ab144ad",
       "version_major": 2,
       "version_minor": 0
      },
      "text/plain": [
       "sampling loop time step:   0%|          | 0/200 [00:00<?, ?it/s]"
      ]
     },
     "metadata": {},
     "output_type": "display_data"
    },
    {
     "name": "stderr",
     "output_type": "stream",
     "text": [
      "Epoch 381:  48%|████▊     | 382/800 [02:37<00:48,  8.54it/s, diff_to_orig_img=1.01, loss=0.042] "
     ]
    },
    {
     "name": "stdout",
     "output_type": "stream",
     "text": [
      "Epoch: 381\t{'loss': 0.04199397191405296, 'diff_to_orig_img': 1.0107347965240479}\n"
     ]
    },
    {
     "data": {
      "application/vnd.jupyter.widget-view+json": {
       "model_id": "5bae1aa8be5040d793f8bd05c74eb81b",
       "version_major": 2,
       "version_minor": 0
      },
      "text/plain": [
       "0it [00:00, ?it/s]"
      ]
     },
     "metadata": {},
     "output_type": "display_data"
    },
    {
     "data": {
      "application/vnd.jupyter.widget-view+json": {
       "model_id": "bf486506f0f64c3b8800852d6945f8f2",
       "version_major": 2,
       "version_minor": 0
      },
      "text/plain": [
       "sampling loop time step:   0%|          | 0/200 [00:00<?, ?it/s]"
      ]
     },
     "metadata": {},
     "output_type": "display_data"
    },
    {
     "name": "stderr",
     "output_type": "stream",
     "text": [
      "Epoch 401:  50%|█████     | 402/800 [02:45<00:54,  7.26it/s, diff_to_orig_img=1.05, loss=0.0225]"
     ]
    },
    {
     "name": "stdout",
     "output_type": "stream",
     "text": [
      "Epoch: 401\t{'loss': 0.022519046440720558, 'diff_to_orig_img': 1.0522764921188354}\n"
     ]
    },
    {
     "data": {
      "application/vnd.jupyter.widget-view+json": {
       "model_id": "d4fea38adf874d5f89c2be07a96b4ae0",
       "version_major": 2,
       "version_minor": 0
      },
      "text/plain": [
       "0it [00:00, ?it/s]"
      ]
     },
     "metadata": {},
     "output_type": "display_data"
    },
    {
     "data": {
      "application/vnd.jupyter.widget-view+json": {
       "model_id": "9cf4919cc1ed40cda4aea2934430019f",
       "version_major": 2,
       "version_minor": 0
      },
      "text/plain": [
       "sampling loop time step:   0%|          | 0/200 [00:00<?, ?it/s]"
      ]
     },
     "metadata": {},
     "output_type": "display_data"
    },
    {
     "name": "stderr",
     "output_type": "stream",
     "text": [
      "Epoch 421:  53%|█████▎    | 422/800 [02:53<00:44,  8.42it/s, diff_to_orig_img=1.05, loss=0.0219]"
     ]
    },
    {
     "name": "stdout",
     "output_type": "stream",
     "text": [
      "Epoch: 421\t{'loss': 0.021885190159082413, 'diff_to_orig_img': 1.0482022762298584}\n",
      "Epoch 00022: reducing learning rate of group 0 to 1.5625e-06.\n"
     ]
    },
    {
     "data": {
      "application/vnd.jupyter.widget-view+json": {
       "model_id": "b48a630a971945babf1a9d7575bde1ab",
       "version_major": 2,
       "version_minor": 0
      },
      "text/plain": [
       "0it [00:00, ?it/s]"
      ]
     },
     "metadata": {},
     "output_type": "display_data"
    },
    {
     "data": {
      "application/vnd.jupyter.widget-view+json": {
       "model_id": "ed5284cde6ce4104a6cd9695e9bb29d6",
       "version_major": 2,
       "version_minor": 0
      },
      "text/plain": [
       "sampling loop time step:   0%|          | 0/200 [00:00<?, ?it/s]"
      ]
     },
     "metadata": {},
     "output_type": "display_data"
    },
    {
     "name": "stderr",
     "output_type": "stream",
     "text": [
      "Epoch 441:  55%|█████▌    | 442/800 [03:02<00:42,  8.50it/s, diff_to_orig_img=1.04, loss=0.0228]"
     ]
    },
    {
     "name": "stdout",
     "output_type": "stream",
     "text": [
      "Epoch: 441\t{'loss': 0.022782225161790848, 'diff_to_orig_img': 1.0404093265533447}\n"
     ]
    },
    {
     "data": {
      "application/vnd.jupyter.widget-view+json": {
       "model_id": "27d8f7f348704539b7bb9a64774e7d95",
       "version_major": 2,
       "version_minor": 0
      },
      "text/plain": [
       "0it [00:00, ?it/s]"
      ]
     },
     "metadata": {},
     "output_type": "display_data"
    },
    {
     "data": {
      "application/vnd.jupyter.widget-view+json": {
       "model_id": "4dbef0e9b35d48178b21854465a3d0d0",
       "version_major": 2,
       "version_minor": 0
      },
      "text/plain": [
       "sampling loop time step:   0%|          | 0/200 [00:00<?, ?it/s]"
      ]
     },
     "metadata": {},
     "output_type": "display_data"
    },
    {
     "name": "stderr",
     "output_type": "stream",
     "text": [
      "Epoch 461:  58%|█████▊    | 462/800 [03:10<00:39,  8.51it/s, diff_to_orig_img=1.04, loss=0.0243]"
     ]
    },
    {
     "name": "stdout",
     "output_type": "stream",
     "text": [
      "Epoch: 461\t{'loss': 0.024329449981451035, 'diff_to_orig_img': 1.0392659902572632}\n"
     ]
    },
    {
     "data": {
      "application/vnd.jupyter.widget-view+json": {
       "model_id": "7c78ca11583e4afb94f028d3dddbf34d",
       "version_major": 2,
       "version_minor": 0
      },
      "text/plain": [
       "0it [00:00, ?it/s]"
      ]
     },
     "metadata": {},
     "output_type": "display_data"
    },
    {
     "data": {
      "application/vnd.jupyter.widget-view+json": {
       "model_id": "6d7a3497450b4452bbed0b810d0b8d51",
       "version_major": 2,
       "version_minor": 0
      },
      "text/plain": [
       "sampling loop time step:   0%|          | 0/200 [00:00<?, ?it/s]"
      ]
     },
     "metadata": {},
     "output_type": "display_data"
    },
    {
     "name": "stderr",
     "output_type": "stream",
     "text": [
      "Epoch 481:  60%|██████    | 482/800 [03:18<00:37,  8.59it/s, diff_to_orig_img=1.04, loss=0.0262]"
     ]
    },
    {
     "name": "stdout",
     "output_type": "stream",
     "text": [
      "Epoch: 481\t{'loss': 0.026236118748784065, 'diff_to_orig_img': 1.0373969078063965}\n",
      "Epoch 00025: reducing learning rate of group 0 to 7.8125e-07.\n"
     ]
    },
    {
     "data": {
      "application/vnd.jupyter.widget-view+json": {
       "model_id": "1b1246656a0d43948c25940f53150b5a",
       "version_major": 2,
       "version_minor": 0
      },
      "text/plain": [
       "0it [00:00, ?it/s]"
      ]
     },
     "metadata": {},
     "output_type": "display_data"
    },
    {
     "data": {
      "application/vnd.jupyter.widget-view+json": {
       "model_id": "831ff13e9b7644308960add18a5c2b00",
       "version_major": 2,
       "version_minor": 0
      },
      "text/plain": [
       "sampling loop time step:   0%|          | 0/200 [00:00<?, ?it/s]"
      ]
     },
     "metadata": {},
     "output_type": "display_data"
    },
    {
     "name": "stderr",
     "output_type": "stream",
     "text": [
      "Epoch 501:  63%|██████▎   | 502/800 [03:26<00:34,  8.57it/s, diff_to_orig_img=1.02, loss=0.0314]"
     ]
    },
    {
     "name": "stdout",
     "output_type": "stream",
     "text": [
      "Epoch: 501\t{'loss': 0.03136163949966431, 'diff_to_orig_img': 1.0227138996124268}\n"
     ]
    },
    {
     "data": {
      "application/vnd.jupyter.widget-view+json": {
       "model_id": "d83400c0bf264c07bad6662469d86e55",
       "version_major": 2,
       "version_minor": 0
      },
      "text/plain": [
       "0it [00:00, ?it/s]"
      ]
     },
     "metadata": {},
     "output_type": "display_data"
    },
    {
     "data": {
      "application/vnd.jupyter.widget-view+json": {
       "model_id": "0c66e9daca2f44ba9f554d128c0075c4",
       "version_major": 2,
       "version_minor": 0
      },
      "text/plain": [
       "sampling loop time step:   0%|          | 0/200 [00:00<?, ?it/s]"
      ]
     },
     "metadata": {},
     "output_type": "display_data"
    },
    {
     "name": "stderr",
     "output_type": "stream",
     "text": [
      "Epoch 521:  65%|██████▌   | 522/800 [03:34<00:33,  8.26it/s, diff_to_orig_img=1.05, loss=0.0261]"
     ]
    },
    {
     "name": "stdout",
     "output_type": "stream",
     "text": [
      "Epoch: 521\t{'loss': 0.026073375716805458, 'diff_to_orig_img': 1.0454696416854858}\n"
     ]
    },
    {
     "data": {
      "application/vnd.jupyter.widget-view+json": {
       "model_id": "45b10ffa07054df89a99d4921aeacd4e",
       "version_major": 2,
       "version_minor": 0
      },
      "text/plain": [
       "0it [00:00, ?it/s]"
      ]
     },
     "metadata": {},
     "output_type": "display_data"
    },
    {
     "data": {
      "application/vnd.jupyter.widget-view+json": {
       "model_id": "329751a0c05e4d0fb8b7dedfc33f29d9",
       "version_major": 2,
       "version_minor": 0
      },
      "text/plain": [
       "sampling loop time step:   0%|          | 0/200 [00:00<?, ?it/s]"
      ]
     },
     "metadata": {},
     "output_type": "display_data"
    },
    {
     "name": "stderr",
     "output_type": "stream",
     "text": [
      "Epoch 541:  68%|██████▊   | 542/800 [03:43<00:31,  8.16it/s, diff_to_orig_img=0.148, loss=0.0184]"
     ]
    },
    {
     "name": "stdout",
     "output_type": "stream",
     "text": [
      "Epoch: 541\t{'loss': 0.01839163526892662, 'diff_to_orig_img': 0.14816391468048096}\n",
      "Epoch 00028: reducing learning rate of group 0 to 3.9063e-07.\n"
     ]
    },
    {
     "data": {
      "application/vnd.jupyter.widget-view+json": {
       "model_id": "d0e0322bd1ce40299796e07ef450fa78",
       "version_major": 2,
       "version_minor": 0
      },
      "text/plain": [
       "0it [00:00, ?it/s]"
      ]
     },
     "metadata": {},
     "output_type": "display_data"
    },
    {
     "data": {
      "application/vnd.jupyter.widget-view+json": {
       "model_id": "3d2d0e0220e14144ae484a8da4d021e2",
       "version_major": 2,
       "version_minor": 0
      },
      "text/plain": [
       "sampling loop time step:   0%|          | 0/200 [00:00<?, ?it/s]"
      ]
     },
     "metadata": {},
     "output_type": "display_data"
    },
    {
     "name": "stderr",
     "output_type": "stream",
     "text": [
      "Epoch 561:  70%|███████   | 562/800 [03:51<00:29,  8.13it/s, diff_to_orig_img=1.04, loss=0.0218] "
     ]
    },
    {
     "name": "stdout",
     "output_type": "stream",
     "text": [
      "Epoch: 561\t{'loss': 0.02183469757437706, 'diff_to_orig_img': 1.0414031744003296}\n"
     ]
    },
    {
     "data": {
      "application/vnd.jupyter.widget-view+json": {
       "model_id": "f6e2027b03f34b56b46fe47765660fcc",
       "version_major": 2,
       "version_minor": 0
      },
      "text/plain": [
       "0it [00:00, ?it/s]"
      ]
     },
     "metadata": {},
     "output_type": "display_data"
    },
    {
     "data": {
      "application/vnd.jupyter.widget-view+json": {
       "model_id": "2f1146b4a0b044c6939cf738d1c25da0",
       "version_major": 2,
       "version_minor": 0
      },
      "text/plain": [
       "sampling loop time step:   0%|          | 0/200 [00:00<?, ?it/s]"
      ]
     },
     "metadata": {},
     "output_type": "display_data"
    },
    {
     "name": "stderr",
     "output_type": "stream",
     "text": [
      "Epoch 581:  73%|███████▎  | 582/800 [03:59<00:26,  8.28it/s, diff_to_orig_img=1.01, loss=0.0352]"
     ]
    },
    {
     "name": "stdout",
     "output_type": "stream",
     "text": [
      "Epoch: 581\t{'loss': 0.03519751504063606, 'diff_to_orig_img': 1.0100945234298706}\n"
     ]
    },
    {
     "data": {
      "application/vnd.jupyter.widget-view+json": {
       "model_id": "c518d1e0da7b43f99f63cdb9a0e67d01",
       "version_major": 2,
       "version_minor": 0
      },
      "text/plain": [
       "0it [00:00, ?it/s]"
      ]
     },
     "metadata": {},
     "output_type": "display_data"
    },
    {
     "data": {
      "application/vnd.jupyter.widget-view+json": {
       "model_id": "c6afb10cff9e4002a42729b2d531a5a5",
       "version_major": 2,
       "version_minor": 0
      },
      "text/plain": [
       "sampling loop time step:   0%|          | 0/200 [00:00<?, ?it/s]"
      ]
     },
     "metadata": {},
     "output_type": "display_data"
    },
    {
     "name": "stderr",
     "output_type": "stream",
     "text": [
      "Epoch 601:  75%|███████▌  | 602/800 [04:08<00:23,  8.49it/s, diff_to_orig_img=0.641, loss=0.0334]"
     ]
    },
    {
     "name": "stdout",
     "output_type": "stream",
     "text": [
      "Epoch: 601\t{'loss': 0.03341512754559517, 'diff_to_orig_img': 0.6412032246589661}\n",
      "Epoch 00031: reducing learning rate of group 0 to 1.9531e-07.\n"
     ]
    },
    {
     "data": {
      "application/vnd.jupyter.widget-view+json": {
       "model_id": "69ffb3473e204c9299cf6baca4da1ef7",
       "version_major": 2,
       "version_minor": 0
      },
      "text/plain": [
       "0it [00:00, ?it/s]"
      ]
     },
     "metadata": {},
     "output_type": "display_data"
    },
    {
     "data": {
      "application/vnd.jupyter.widget-view+json": {
       "model_id": "8f69a5ee77dd47e1b5abe6a6d80aee3f",
       "version_major": 2,
       "version_minor": 0
      },
      "text/plain": [
       "sampling loop time step:   0%|          | 0/200 [00:00<?, ?it/s]"
      ]
     },
     "metadata": {},
     "output_type": "display_data"
    },
    {
     "name": "stderr",
     "output_type": "stream",
     "text": [
      "Epoch 621:  78%|███████▊  | 622/800 [04:16<00:20,  8.51it/s, diff_to_orig_img=0.175, loss=0.0181]"
     ]
    },
    {
     "name": "stdout",
     "output_type": "stream",
     "text": [
      "Epoch: 621\t{'loss': 0.018138568848371506, 'diff_to_orig_img': 0.1745813637971878}\n"
     ]
    },
    {
     "data": {
      "application/vnd.jupyter.widget-view+json": {
       "model_id": "9a06871209c14b28b32e5ce5fd22e809",
       "version_major": 2,
       "version_minor": 0
      },
      "text/plain": [
       "0it [00:00, ?it/s]"
      ]
     },
     "metadata": {},
     "output_type": "display_data"
    },
    {
     "data": {
      "application/vnd.jupyter.widget-view+json": {
       "model_id": "7dafc8c7f3da4ed48685405843664c4b",
       "version_major": 2,
       "version_minor": 0
      },
      "text/plain": [
       "sampling loop time step:   0%|          | 0/200 [00:00<?, ?it/s]"
      ]
     },
     "metadata": {},
     "output_type": "display_data"
    },
    {
     "name": "stderr",
     "output_type": "stream",
     "text": [
      "Epoch 641:  80%|████████  | 642/800 [04:24<00:18,  8.51it/s, diff_to_orig_img=1.05, loss=0.0218] "
     ]
    },
    {
     "name": "stdout",
     "output_type": "stream",
     "text": [
      "Epoch: 641\t{'loss': 0.0218039583414793, 'diff_to_orig_img': 1.0497074127197266}\n"
     ]
    },
    {
     "data": {
      "application/vnd.jupyter.widget-view+json": {
       "model_id": "bb5d1d2e1aca47e09b98818a80aa6c22",
       "version_major": 2,
       "version_minor": 0
      },
      "text/plain": [
       "0it [00:00, ?it/s]"
      ]
     },
     "metadata": {},
     "output_type": "display_data"
    },
    {
     "data": {
      "application/vnd.jupyter.widget-view+json": {
       "model_id": "77c33686da7e4448bf2bca7257b16524",
       "version_major": 2,
       "version_minor": 0
      },
      "text/plain": [
       "sampling loop time step:   0%|          | 0/200 [00:00<?, ?it/s]"
      ]
     },
     "metadata": {},
     "output_type": "display_data"
    },
    {
     "name": "stderr",
     "output_type": "stream",
     "text": [
      "Epoch 661:  83%|████████▎ | 662/800 [04:32<00:16,  8.51it/s, diff_to_orig_img=0.181, loss=0.02] "
     ]
    },
    {
     "name": "stdout",
     "output_type": "stream",
     "text": [
      "Epoch: 661\t{'loss': 0.020036358386278152, 'diff_to_orig_img': 0.18131472170352936}\n",
      "Epoch 00034: reducing learning rate of group 0 to 1.0000e-07.\n"
     ]
    },
    {
     "data": {
      "application/vnd.jupyter.widget-view+json": {
       "model_id": "34e1ef6b29364d2baa2aa3278a401a07",
       "version_major": 2,
       "version_minor": 0
      },
      "text/plain": [
       "0it [00:00, ?it/s]"
      ]
     },
     "metadata": {},
     "output_type": "display_data"
    },
    {
     "data": {
      "application/vnd.jupyter.widget-view+json": {
       "model_id": "dd349f6cffe04915bd078ab3d77bb238",
       "version_major": 2,
       "version_minor": 0
      },
      "text/plain": [
       "sampling loop time step:   0%|          | 0/200 [00:00<?, ?it/s]"
      ]
     },
     "metadata": {},
     "output_type": "display_data"
    },
    {
     "name": "stderr",
     "output_type": "stream",
     "text": [
      "Epoch 681:  85%|████████▌ | 682/800 [04:40<00:13,  8.49it/s, diff_to_orig_img=1.04, loss=0.0236]"
     ]
    },
    {
     "name": "stdout",
     "output_type": "stream",
     "text": [
      "Epoch: 681\t{'loss': 0.023616010323166847, 'diff_to_orig_img': 1.0408272743225098}\n"
     ]
    },
    {
     "data": {
      "application/vnd.jupyter.widget-view+json": {
       "model_id": "0ce69af15b96405ea128c87f8fcb629f",
       "version_major": 2,
       "version_minor": 0
      },
      "text/plain": [
       "0it [00:00, ?it/s]"
      ]
     },
     "metadata": {},
     "output_type": "display_data"
    },
    {
     "data": {
      "application/vnd.jupyter.widget-view+json": {
       "model_id": "8923ff2f38394f129bc097c10cf7efe2",
       "version_major": 2,
       "version_minor": 0
      },
      "text/plain": [
       "sampling loop time step:   0%|          | 0/200 [00:00<?, ?it/s]"
      ]
     },
     "metadata": {},
     "output_type": "display_data"
    },
    {
     "name": "stderr",
     "output_type": "stream",
     "text": [
      "Epoch 701:  88%|████████▊ | 702/800 [04:49<00:11,  8.49it/s, diff_to_orig_img=1.05, loss=0.023] "
     ]
    },
    {
     "name": "stdout",
     "output_type": "stream",
     "text": [
      "Epoch: 701\t{'loss': 0.023028098046779633, 'diff_to_orig_img': 1.0488802194595337}\n"
     ]
    },
    {
     "data": {
      "application/vnd.jupyter.widget-view+json": {
       "model_id": "fc0bb36aa66a4b548ff9426aa1a9ccfe",
       "version_major": 2,
       "version_minor": 0
      },
      "text/plain": [
       "0it [00:00, ?it/s]"
      ]
     },
     "metadata": {},
     "output_type": "display_data"
    },
    {
     "data": {
      "application/vnd.jupyter.widget-view+json": {
       "model_id": "f9db6f5935124277b611e439643c054e",
       "version_major": 2,
       "version_minor": 0
      },
      "text/plain": [
       "sampling loop time step:   0%|          | 0/200 [00:00<?, ?it/s]"
      ]
     },
     "metadata": {},
     "output_type": "display_data"
    },
    {
     "name": "stderr",
     "output_type": "stream",
     "text": [
      "Epoch 721:  90%|█████████ | 722/800 [04:57<00:09,  8.09it/s, diff_to_orig_img=0.367, loss=0.026]"
     ]
    },
    {
     "name": "stdout",
     "output_type": "stream",
     "text": [
      "Epoch: 721\t{'loss': 0.02601057104766369, 'diff_to_orig_img': 0.3668328821659088}\n"
     ]
    },
    {
     "data": {
      "application/vnd.jupyter.widget-view+json": {
       "model_id": "82b6d77b61b04a1ab15aebe92b83d9fe",
       "version_major": 2,
       "version_minor": 0
      },
      "text/plain": [
       "0it [00:00, ?it/s]"
      ]
     },
     "metadata": {},
     "output_type": "display_data"
    },
    {
     "data": {
      "application/vnd.jupyter.widget-view+json": {
       "model_id": "65d1a2cdf8124f6ca1527a531e87b4c8",
       "version_major": 2,
       "version_minor": 0
      },
      "text/plain": [
       "sampling loop time step:   0%|          | 0/200 [00:00<?, ?it/s]"
      ]
     },
     "metadata": {},
     "output_type": "display_data"
    },
    {
     "name": "stderr",
     "output_type": "stream",
     "text": [
      "Epoch 741:  93%|█████████▎| 742/800 [05:05<00:06,  8.49it/s, diff_to_orig_img=0.592, loss=0.0324]"
     ]
    },
    {
     "name": "stdout",
     "output_type": "stream",
     "text": [
      "Epoch: 741\t{'loss': 0.03237804397940636, 'diff_to_orig_img': 0.5915883779525757}\n"
     ]
    },
    {
     "data": {
      "application/vnd.jupyter.widget-view+json": {
       "model_id": "2c26871da23b4295a175768eb0885f68",
       "version_major": 2,
       "version_minor": 0
      },
      "text/plain": [
       "0it [00:00, ?it/s]"
      ]
     },
     "metadata": {},
     "output_type": "display_data"
    },
    {
     "data": {
      "application/vnd.jupyter.widget-view+json": {
       "model_id": "553453824bfc4b59b9cb5b954f500a92",
       "version_major": 2,
       "version_minor": 0
      },
      "text/plain": [
       "sampling loop time step:   0%|          | 0/200 [00:00<?, ?it/s]"
      ]
     },
     "metadata": {},
     "output_type": "display_data"
    },
    {
     "name": "stderr",
     "output_type": "stream",
     "text": [
      "Epoch 761:  95%|█████████▌| 762/800 [05:13<00:04,  8.60it/s, diff_to_orig_img=1.04, loss=0.02]   "
     ]
    },
    {
     "name": "stdout",
     "output_type": "stream",
     "text": [
      "Epoch: 761\t{'loss': 0.019988708198070526, 'diff_to_orig_img': 1.0430874824523926}\n"
     ]
    },
    {
     "data": {
      "application/vnd.jupyter.widget-view+json": {
       "model_id": "fbcc0ffb1983476abb89edcdb215a669",
       "version_major": 2,
       "version_minor": 0
      },
      "text/plain": [
       "0it [00:00, ?it/s]"
      ]
     },
     "metadata": {},
     "output_type": "display_data"
    },
    {
     "data": {
      "application/vnd.jupyter.widget-view+json": {
       "model_id": "f6bf3701655b40e9b20a33e77e986b3c",
       "version_major": 2,
       "version_minor": 0
      },
      "text/plain": [
       "sampling loop time step:   0%|          | 0/200 [00:00<?, ?it/s]"
      ]
     },
     "metadata": {},
     "output_type": "display_data"
    },
    {
     "name": "stderr",
     "output_type": "stream",
     "text": [
      "Epoch 781:  98%|█████████▊| 782/800 [05:21<00:02,  8.48it/s, diff_to_orig_img=1.04, loss=0.0204]"
     ]
    },
    {
     "name": "stdout",
     "output_type": "stream",
     "text": [
      "Epoch: 781\t{'loss': 0.020407363772392273, 'diff_to_orig_img': 1.0438064336776733}\n"
     ]
    },
    {
     "data": {
      "application/vnd.jupyter.widget-view+json": {
       "model_id": "5acb8d3a93434063b5c491422a609970",
       "version_major": 2,
       "version_minor": 0
      },
      "text/plain": [
       "0it [00:00, ?it/s]"
      ]
     },
     "metadata": {},
     "output_type": "display_data"
    },
    {
     "data": {
      "application/vnd.jupyter.widget-view+json": {
       "model_id": "e93cfdfbd0e848cdad0223badce2afff",
       "version_major": 2,
       "version_minor": 0
      },
      "text/plain": [
       "sampling loop time step:   0%|          | 0/200 [00:00<?, ?it/s]"
      ]
     },
     "metadata": {},
     "output_type": "display_data"
    },
    {
     "name": "stderr",
     "output_type": "stream",
     "text": [
      "Epoch 799: 100%|██████████| 800/800 [05:29<00:00,  7.49it/s, diff_to_orig_img=0.0216, loss=0.00806]"
     ]
    },
    {
     "name": "stdout",
     "output_type": "stream",
     "text": [
      "Epoch: 799\t{'loss': 0.00806090421974659, 'diff_to_orig_img': 0.021610088646411896}\n"
     ]
    },
    {
     "data": {
      "application/vnd.jupyter.widget-view+json": {
       "model_id": "944fa9af5f334dd88d8b25ee30005077",
       "version_major": 2,
       "version_minor": 0
      },
      "text/plain": [
       "0it [00:00, ?it/s]"
      ]
     },
     "metadata": {},
     "output_type": "display_data"
    },
    {
     "data": {
      "application/vnd.jupyter.widget-view+json": {
       "model_id": "dbd9d02cf17f468d8f43720abaf1d067",
       "version_major": 2,
       "version_minor": 0
      },
      "text/plain": [
       "sampling loop time step:   0%|          | 0/200 [00:00<?, ?it/s]"
      ]
     },
     "metadata": {},
     "output_type": "display_data"
    },
    {
     "data": {
      "image/png": "[encoded data removed]",
      "text/plain": [
       "<Figure size 640x480 with 1 Axes>"
      ]
     },
     "metadata": {},
     "output_type": "display_data"
    }
   ],
   "source": [
    "from rsl_depth_completion.conditional_diffusion.config import cfg\n",
    "\n",
    "for ds_name in [\"mnist\"]:\n",
    "    for ds_kwargs in ds_params:\n",
    "        ds_kwargs[\"use_rgb_as_text_embed\"] = not ds_kwargs[\"use_rgb_as_cond_image\"]\n",
    "        ds_kwargs[\"include_sdm_and_rgb_in_sample\"] = True\n",
    "        ds_kwargs[\"do_crop\"] = True\n",
    "        print(ds_kwargs)\n",
    "\n",
    "        ds, train_dataloader, val_dataloader = load_data(\n",
    "            ds_name=ds_name, do_debug=cfg.do_debug, **ds_kwargs\n",
    "        )\n",
    "\n",
    "        experiment = comet_ml.Experiment(\n",
    "            api_key=\"W5npcWDiWeNPoB2OYkQvwQD0C\",\n",
    "            project_name=\"rsl_depth_completion\",\n",
    "            auto_metric_logging=True,\n",
    "            auto_param_logging=True,\n",
    "            auto_histogram_tensorboard_logging=True,\n",
    "            log_env_details=False,\n",
    "            log_env_host=False,\n",
    "            disabled=cfg.disabled,\n",
    "        )\n",
    "        log_params_to_exp(experiment, ds_kwargs, \"dataset\")\n",
    "        log_params_to_exp(experiment, cfg.params(), \"base_config\")\n",
    "\n",
    "        print(\n",
    "            \"Number of train samples\",\n",
    "            len(train_dataloader) * train_dataloader.batch_size,\n",
    "        )\n",
    "\n",
    "        import gc\n",
    "\n",
    "\n",
    "        gc.collect()\n",
    "        torch.cuda.empty_cache()\n",
    "        from model import init_model\n",
    "\n",
    "        unets, imagen = init_model(cfg.timesteps, experiment, ds_kwargs)\n",
    "\n",
    "        unets[0].to(cfg.device)\n",
    "        imagen.to(cfg.device)\n",
    "\n",
    "        print(\n",
    "            \"Number of parameters in model\",\n",
    "            sum(p.numel() for p in imagen.parameters() if p.requires_grad),\n",
    "        )\n",
    "\n",
    "        optimizer = optim.Adam(imagen.parameters(), lr=cfg.lr)\n",
    "\n",
    "        input_name = \"interp_sdm\"\n",
    "\n",
    "        if ds_kwargs[\"use_cond_image\"]:\n",
    "            if ds_kwargs[\"use_rgb_as_cond_image\"]:\n",
    "                img_cond = \"rgb\"\n",
    "            else:\n",
    "                img_cond = \"sdm\"\n",
    "        else:\n",
    "            img_cond = \"none\"\n",
    "\n",
    "        if ds_kwargs[\"use_text_embed\"]:\n",
    "            if ds_kwargs[\"use_rgb_as_text_embed\"]:\n",
    "                text_cond = \"rgb\"\n",
    "            else:\n",
    "                text_cond = \"sdm\"\n",
    "        else:\n",
    "            text_cond = \"none\"\n",
    "\n",
    "        cond = f\"{img_cond=}_{text_cond=}\"\n",
    "        exp_dir = f\"{input_name=}/{cond=}/{cfg.lr=}_{cfg.timesteps=}\"\n",
    "\n",
    "        exp_dir = (\n",
    "            f\"{max([int(x) for x in os.listdir(logdir)]) + 1:03d}\" if os.path.isdir(logdir) else \"001\"\n",
    "        )\n",
    "        train_logdir = logdir / exp_dir / cond\n",
    "        train_logdir.mkdir(parents=True, exist_ok=True)\n",
    "        train_writer = tf.summary.create_file_writer(str(train_logdir))\n",
    "\n",
    "        from train import train\n",
    "\n",
    "        train(\n",
    "            imagen,\n",
    "            optimizer,\n",
    "            train_dataloader,\n",
    "            do_debug=cfg.do_debug,\n",
    "            out_dir=train_logdir,\n",
    "            train_writer=train_writer,\n",
    "        )\n",
    "\n",
    "        experiment.add_tags([k for k, v in ds_kwargs.items() if v])\n",
    "        experiment.add_tag(ds_name)\n",
    "        experiment.add_tag(\"overfit\" if cfg.do_overfit else \"full_data\")\n",
    "        experiment.add_tag(\"debug\" if cfg.do_debug else \"train\")\n",
    "\n",
    "        experiment.end()\n"
   ]
  },
  {
   "cell_type": "code",
   "execution_count": 6,
   "metadata": {},
   "outputs": [],
   "source": [
    "x=next(iter(train_dataloader))"
   ]
  },
  {
   "cell_type": "code",
   "execution_count": 7,
   "metadata": {},
   "outputs": [
    {
     "data": {
      "text/plain": [
       "<matplotlib.image.AxesImage at 0x7f17553ae7a0>"
      ]
     },
     "execution_count": 7,
     "metadata": {},
     "output_type": "execute_result"
    },
    {
     "data": {
      "image/png": "[encoded data removed]",
      "text/plain": [
       "<Figure size 640x480 with 1 Axes>"
      ]
     },
     "metadata": {},
     "output_type": "display_data"
    },
    {
     "name": "stderr",
     "output_type": "stream",
     "text": [
      "Epoch 799: 100%|██████████| 800/800 [05:40<00:00,  7.49it/s, diff_to_orig_img=0.0216, loss=0.00806]"
     ]
    }
   ],
   "source": [
    "import matplotlib.pyplot as plt\n",
    "\n",
    "plt.imshow(x[\"image\"][0].permute(1,2,0).cpu().numpy())"
   ]
  },
  {
   "cell_type": "code",
   "execution_count": null,
   "metadata": {},
   "outputs": [],
   "source": []
  }
 ],
 "metadata": {
  "kernelspec": {
   "display_name": "ssdc",
   "language": "python",
   "name": "python3"
  },
  "language_info": {
   "codemirror_mode": {
    "name": "ipython",
    "version": 3
   },
   "file_extension": ".py",
   "mimetype": "text/x-python",
   "name": "python",
   "nbconvert_exporter": "python",
   "pygments_lexer": "ipython3",
   "version": "3.10.11"
  },
  "orig_nbformat": 4
 },
 "nbformat": 4,
 "nbformat_minor": 2
}
