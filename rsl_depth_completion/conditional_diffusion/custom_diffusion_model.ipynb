{
 "cells": [
  {
   "cell_type": "code",
   "execution_count": 1,
   "metadata": {},
   "outputs": [
    {
     "name": "stderr",
     "output_type": "stream",
     "text": [
      "/home/master/.conda/envs/ssdc/lib/python3.10/site-packages/torchvision/io/image.py:13: UserWarning: Failed to load image Python extension: '/home/master/.conda/envs/ssdc/lib/python3.10/site-packages/torchvision/image.so: undefined symbol: _ZN3c106detail23torchInternalAssertFailEPKcS2_jS2_RKSs'If you don't plan on using image functionality from `torchvision.io`, you can ignore this warning. Otherwise, there might be something wrong with your environment. Did you have `libjpeg` or `libpng` installed before building `torchvision` from source?\n",
      "  warn(\n",
      "2023-04-19 14:14:35.024007: I tensorflow/core/platform/cpu_feature_guard.cc:193] This TensorFlow binary is optimized with oneAPI Deep Neural Network Library (oneDNN) to use the following CPU instructions in performance-critical operations:  AVX2 AVX_VNNI FMA\n",
      "To enable them in other operations, rebuild TensorFlow with the appropriate compiler flags.\n",
      "2023-04-19 14:14:35.122250: I tensorflow/core/util/port.cc:104] oneDNN custom operations are on. You may see slightly different numerical results due to floating-point round-off errors from different computation orders. To turn them off, set the environment variable `TF_ENABLE_ONEDNN_OPTS=0`.\n",
      "2023-04-19 14:14:35.490306: W tensorflow/compiler/xla/stream_executor/platform/default/dso_loader.cc:64] Could not load dynamic library 'libnvinfer.so.7'; dlerror: libnvinfer.so.7: cannot open shared object file: No such file or directory; LD_LIBRARY_PATH: /home/master/.conda/envs/ssdc/lib/python3.10/site-packages/cv2/../../lib64:\n",
      "2023-04-19 14:14:35.490348: W tensorflow/compiler/xla/stream_executor/platform/default/dso_loader.cc:64] Could not load dynamic library 'libnvinfer_plugin.so.7'; dlerror: libnvinfer_plugin.so.7: cannot open shared object file: No such file or directory; LD_LIBRARY_PATH: /home/master/.conda/envs/ssdc/lib/python3.10/site-packages/cv2/../../lib64:\n",
      "2023-04-19 14:14:35.490351: W tensorflow/compiler/tf2tensorrt/utils/py_utils.cc:38] TF-TRT Warning: Cannot dlopen some TensorRT libraries. If you would like to use Nvidia GPU with TensorRT, please make sure the missing libraries mentioned above are installed properly.\n"
     ]
    }
   ],
   "source": [
    "import numpy as np\n",
    "import matplotlib.pyplot as plt\n",
    "import os\n",
    "from pathlib import Path\n",
    "from glob import glob\n",
    "import cv2\n",
    "import torch\n",
    "from PIL import Image\n",
    "import tqdm\n",
    "\n",
    "from rsl_depth_completion.diffusion.inference_utils import sample\n",
    "from rsl_depth_completion.diffusion.configs import DiffusionConfig\n",
    "from torchvision import transforms\n",
    "from torch.utils.data import DataLoader\n",
    "import torchvision as tv\n",
    "from rsl_depth_completion.diffusion.training_utils import q_sample\n",
    "from rsl_depth_completion.diffusion.utils import extract\n",
    "from rsl_depth_completion.diffusion.utils import set_seed\n",
    "from torchvision.utils import save_image\n",
    "from rsl_depth_completion.diffusion.schedulers import (cosine_beta_schedule,\n",
    "linear_beta_schedule,\n",
    "quadratic_beta_schedule,\n",
    "sigmoid_beta_schedule)\n",
    "import torch.nn.functional as F\n",
    "from torch.optim import Adam\n",
    "import gc\n",
    "\n",
    "from pathlib import Path\n",
    "import shutil\n",
    "import numpy as np\n",
    "import requests\n",
    "import torch\n",
    "from PIL import Image\n",
    "from transformers import CLIPModel, CLIPProcessor\n",
    "from minimagen.training import _Rescale, _fetch_single_image\n",
    "\n",
    "%matplotlib inline\n",
    "%autoreload 2"
   ]
  },
  {
   "attachments": {},
   "cell_type": "markdown",
   "metadata": {},
   "source": [
    "# config"
   ]
  },
  {
   "cell_type": "code",
   "execution_count": 2,
   "metadata": {},
   "outputs": [],
   "source": [
    "input_channels = 1\n",
    "timesteps = 200\n",
    "# timesteps = 30\n",
    "\n",
    "seed = 100\n",
    "set_seed(seed)\n",
    "\n",
    "run_name='test'\n",
    "results_folder = Path(\"./imagen_results\") / run_name\n",
    "shutil.rmtree(results_folder, ignore_errors=True)\n",
    "results_folder.mkdir(parents=True,exist_ok = True)\n",
    "\n",
    "init_image_size = (352, 1216)\n",
    "crop_image_size = (352, 1216 // 3)\n",
    "target_image_size = (152, 200)\n",
    "input_channels = 1\n",
    "batch_size = 2\n",
    "\n"
   ]
  },
  {
   "attachments": {},
   "cell_type": "markdown",
   "metadata": {},
   "source": [
    "# model"
   ]
  },
  {
   "cell_type": "code",
   "execution_count": 3,
   "metadata": {},
   "outputs": [],
   "source": [
    "from rsl_depth_completion.conditional_diffusion.utils import get_model_params\n",
    "from rsl_depth_completion.conditional_diffusion.train import MinimagenTrain\n",
    "from kbnet import data_utils\n",
    "import yaml\n",
    "\n"
   ]
  },
  {
   "cell_type": "code",
   "execution_count": 4,
   "metadata": {},
   "outputs": [],
   "source": [
    "import os\n",
    "from datetime import datetime\n",
    "\n",
    "import torch.utils.data\n",
    "from torch import optim\n",
    "from minimagen.training import (\n",
    "    ConceptualCaptions,\n",
    "    get_minimagen_dl_opts,\n",
    "    create_directory,\n",
    ")\n",
    "\n"
   ]
  },
  {
   "cell_type": "code",
   "execution_count": 5,
   "metadata": {},
   "outputs": [],
   "source": [
    "import argparse\n",
    "import torch\n",
    "args = argparse.Namespace(**{\n",
    "    \"PARAMETERS\": \"./imagen_parameters\",\n",
    "    \"BATCH_SIZE\": 2,\n",
    "    \"NUM_WORKERS\": 0,\n",
    "    \"EPOCHS\": 5,\n",
    "    \"OPTIM_LR\": 0.001,\n",
    "    \"ACCUM_ITER\": 1,\n",
    "    \"CHCKPT_NUM\": 500,\n",
    "})\n",
    "params = get_model_params(args.PARAMETERS)\n",
    "input_channels = 1\n",
    "for k, v in params.items():\n",
    "    v['channels'] = input_channels\n",
    "data_args = argparse.Namespace(\n",
    "    **{\n",
    "        \"MAX_NUM_WORDS\": 64,\n",
    "        \"T5_NAME\": params['imagen_parameters']['text_encoder_name'],\n",
    "        \"IMG_SIDE_LEN\": params['imagen_parameters'][\"image_sizes\"][1],\n",
    "        \"TRAIN_VALID_FRAC\": 0.9,\n",
    "    }\n",
    ")\n"
   ]
  },
  {
   "cell_type": "code",
   "execution_count": 6,
   "metadata": {},
   "outputs": [],
   "source": [
    "\n",
    "# timestamp = datetime.now().strftime(\"%Y%m%d_%H%M%S\")\n",
    "exp_name = 'overfit_img_img_kitti'\n",
    "dir_path = f\"./training_{exp_name}\"\n",
    "training_dir = create_directory(dir_path)"
   ]
  },
  {
   "cell_type": "code",
   "execution_count": 7,
   "metadata": {},
   "outputs": [
    {
     "name": "stderr",
     "output_type": "stream",
     "text": [
      "No config specified, defaulting to: conceptual_captions/unlabeled\n",
      "Found cached dataset conceptual_captions (/home/master/.cache/huggingface/datasets/conceptual_captions/unlabeled/1.0.0/05266784888422e36944016874c44639bccb39069c2227435168ad8b02d600d8)\n"
     ]
    },
    {
     "data": {
      "application/vnd.jupyter.widget-view+json": {
       "model_id": "451d66ea6a7741b79783a79a8c667f6f",
       "version_major": 2,
       "version_minor": 0
      },
      "text/plain": [
       "  0%|          | 0/2 [00:00<?, ?it/s]"
      ]
     },
     "metadata": {},
     "output_type": "display_data"
    }
   ],
   "source": [
    "from datasets import load_dataset\n",
    "from minimagen.training import MinimagenDataset\n",
    "\n",
    "dset = load_dataset(\"conceptual_captions\")"
   ]
  },
  {
   "cell_type": "code",
   "execution_count": 8,
   "metadata": {},
   "outputs": [
    {
     "name": "stdout",
     "output_type": "stream",
     "text": [
      "6\n"
     ]
    }
   ],
   "source": [
    "train_val_num = args.BATCH_SIZE*3\n",
    "val_num = args.BATCH_SIZE+1\n",
    "vi = dset[\"validation\"][\"image_url\"][:val_num]\n",
    "vc = dset[\"validation\"][\"caption\"][:val_num]\n",
    "ti = dset[\"train\"][\"image_url\"][:train_val_num]\n",
    "tc = dset[\"train\"][\"caption\"][:train_val_num]\n",
    "new_dset = {\n",
    "    \"train\": {\n",
    "        \"image_url\": ti,\n",
    "        \"caption\": tc,\n",
    "    },\n",
    "    \"num_rows\": train_val_num,\n",
    "    \"validation\": {\n",
    "        \"image_url\": vi,\n",
    "        \"caption\": vc,\n",
    "    },\n",
    "    \"num_rows\": val_num,\n",
    "}\n",
    "print(len(new_dset[\"train\"][\"image_url\"]))"
   ]
  },
  {
   "cell_type": "code",
   "execution_count": 9,
   "metadata": {},
   "outputs": [],
   "source": [
    "\n",
    "extractor_model_ref = \"openai/clip-vit-base-patch32\"\n",
    "extractor_model = CLIPModel.from_pretrained(extractor_model_ref)\n",
    "extractor_processor = CLIPProcessor.from_pretrained(extractor_model_ref)\n",
    "device = torch.device(\"cuda\" if torch.cuda.is_available() else \"cpu\")"
   ]
  },
  {
   "cell_type": "code",
   "execution_count": 10,
   "metadata": {},
   "outputs": [],
   "source": [
    "ds_config = argparse.Namespace(**yaml.safe_load(open(\"/media/master/wext/msc_studies/second_semester/research_project/project/rsl_depth_completion/configs/data/kitti_custom.yaml\"))['ds_config'])\n",
    "ds_config.use_pose = \"photo\" in ds_config.train_mode\n",
    "ds_config.result = ds_config.result_dir\n",
    "ds_config.use_rgb = (\"rgb\" in ds_config.input) or ds_config.use_pose\n",
    "ds_config.use_d = \"d\" in ds_config.input\n",
    "ds_config.use_g = \"g\" in ds_config.input\n",
    "val_image_paths = data_utils.read_paths(ds_config.val_image_path)\n",
    "val_sparse_depth_paths = data_utils.read_paths(\n",
    "    ds_config.val_sparse_depth_path\n",
    ")\n",
    "val_intrinsics_paths = data_utils.read_paths(\n",
    "    ds_config.val_intrinsics_path\n",
    ")\n",
    "val_ground_truth_paths = data_utils.read_paths(\n",
    "    ds_config.val_ground_truth_path\n",
    ")"
   ]
  },
  {
   "cell_type": "code",
   "execution_count": 26,
   "metadata": {},
   "outputs": [],
   "source": [
    "from rsl_depth_completion.data.kitti.kitti_dataset import CustomKittiDCDataset\n",
    "\n",
    "class MinimagenDatasetCustom(CustomKittiDCDataset):\n",
    "    def __init__(\n",
    "        self,\n",
    "        *args, **kwargs\n",
    "    ):\n",
    "        super().__init__(*args, **kwargs)\n",
    "\n",
    "    def __getitem__(self, idx):\n",
    "        items = super().__getitem__(idx)\n",
    "        img = items['d']\n",
    "        cond_image = items['img']\n",
    "\n",
    "        pixel_values = extractor_processor(\n",
    "            images=torch.stack(\n",
    "                [\n",
    "                    torch.from_numpy(np.array(cond_image)),\n",
    "                    torch.from_numpy(np.array(cond_image)),\n",
    "                ]\n",
    "            ),\n",
    "            return_tensors=\"pt\",\n",
    "        ).pixel_values\n",
    "        embedding = extractor_model.get_image_features(pixel_values=pixel_values)\n",
    "        embedding = embedding.unsqueeze(1).to(device)\n",
    "        encoding = embedding\n",
    "        mask = torch.ones(embedding.shape[0], 1).bool().to(device)\n",
    "\n",
    "        return {\"image\": img.detach(), \"encoding\": encoding.detach(), \"mask\": mask.detach()}"
   ]
  },
  {
   "cell_type": "code",
   "execution_count": 27,
   "metadata": {},
   "outputs": [
    {
     "data": {
      "text/plain": [
       "(torch.Size([1, 352, 1216]), torch.Size([2, 1, 512]), torch.Size([2, 1]))"
      ]
     },
     "execution_count": 27,
     "metadata": {},
     "output_type": "execute_result"
    }
   ],
   "source": [
    "ds = MinimagenDatasetCustom(\n",
    "    ds_config=ds_config,\n",
    "                image_paths=val_image_paths,\n",
    "                sparse_depth_paths=val_sparse_depth_paths,\n",
    "                intrinsics_paths=val_intrinsics_paths,\n",
    "                ground_truth_paths=val_ground_truth_paths,\n",
    "            )\n",
    "x=ds[0]\n",
    "x['image'].shape, x['encoding'].shape, x['mask'].shape"
   ]
  },
  {
   "cell_type": "code",
   "execution_count": 28,
   "metadata": {},
   "outputs": [],
   "source": [
    "ds_subset = torch.utils.data.Subset(ds, range(0, 6))\n",
    "\n",
    "# Split into train/valid\n",
    "train_dataset, valid_dataset = torch.utils.data.random_split(\n",
    "    ds_subset, [2,4]\n",
    "    # dataset_train_valid, [train_num, val_num]\n",
    ")\n",
    "\n",
    "dl_opts = {\n",
    "    **get_minimagen_dl_opts(device),\n",
    "    \"batch_size\": args.BATCH_SIZE,\n",
    "    \"num_workers\": args.NUM_WORKERS,\n",
    "}\n",
    "train_dataloader = torch.utils.data.DataLoader(train_dataset, **dl_opts)\n",
    "valid_dataloader = torch.utils.data.DataLoader(valid_dataset, **dl_opts)\n"
   ]
  },
  {
   "cell_type": "code",
   "execution_count": 29,
   "metadata": {},
   "outputs": [
    {
     "data": {
      "text/plain": [
       "(1, 2)"
      ]
     },
     "execution_count": 29,
     "metadata": {},
     "output_type": "execute_result"
    }
   ],
   "source": [
    "len(train_dataloader), len(valid_dataloader)"
   ]
  },
  {
   "cell_type": "code",
   "execution_count": 30,
   "metadata": {},
   "outputs": [],
   "source": [
    "x_train=next(iter(train_dataloader))\n",
    "x_val=next(iter(valid_dataloader))"
   ]
  },
  {
   "cell_type": "code",
   "execution_count": 32,
   "metadata": {},
   "outputs": [],
   "source": [
    "import json\n",
    "\n",
    "with open(\"full_params.json\", \"w\") as f:\n",
    "    f.write(json.dumps(params))"
   ]
  },
  {
   "cell_type": "code",
   "execution_count": 39,
   "metadata": {},
   "outputs": [],
   "source": [
    "import gc; gc.collect()\n",
    "torch.cuda.empty_cache()\n",
    "\n",
    "# from minimagen.Imagen import Imagen\n",
    "# from minimagen.Unet import Unet\n",
    "from rsl_depth_completion.conditional_diffusion.Imagen import Imagen\n",
    "from rsl_depth_completion.conditional_diffusion.Unet import Unet\n",
    "\n",
    "device=torch.device(\"cuda:0\" if torch.cuda.is_available() else \"cpu\")\n",
    "# Create Unets accoridng to unets_params\n",
    "unets = [Unet(**params['unet_base']).to(device), Unet(**params['unet_super_resolution']).to(device)]\n",
    "\n",
    "# Create Imagen from UNets with specified imagen parameters\n",
    "imagen = Imagen(unets=unets, **params['imagen_parameters']).to(device)\n",
    "args.OPTIM_LR = 0.005\n",
    "optimizer = optim.Adam(imagen.parameters(), lr=args.OPTIM_LR)"
   ]
  },
  {
   "cell_type": "code",
   "execution_count": 40,
   "metadata": {},
   "outputs": [
    {
     "name": "stdout",
     "output_type": "stream",
     "text": [
      "### Epoch 1 of 40 ###\n"
     ]
    },
    {
     "name": "stderr",
     "output_type": "stream",
     "text": [
      "train: 100%|██████████| 1/1 [00:00<00:00,  2.80it/s]\n"
     ]
    },
    {
     "name": "stdout",
     "output_type": "stream",
     "text": [
      "(Base,SuperR) Unets Train Loss: (1.01647, 1.06142)\n"
     ]
    },
    {
     "name": "stderr",
     "output_type": "stream",
     "text": [
      "valid: 100%|██████████| 2/2 [00:00<00:00,  3.00it/s]\n"
     ]
    },
    {
     "name": "stdout",
     "output_type": "stream",
     "text": [
      "(Base,SuperR) Unets Val Loss: (0.66023, 1.17554)\n",
      "### Epoch 2 of 40 ###\n"
     ]
    },
    {
     "name": "stderr",
     "output_type": "stream",
     "text": [
      "train: 100%|██████████| 1/1 [00:00<00:00,  2.75it/s]\n"
     ]
    },
    {
     "name": "stdout",
     "output_type": "stream",
     "text": [
      "(Base,SuperR) Unets Train Loss: (0.693, 1.15632)\n"
     ]
    },
    {
     "name": "stderr",
     "output_type": "stream",
     "text": [
      "valid: 100%|██████████| 2/2 [00:00<00:00,  2.83it/s]\n"
     ]
    },
    {
     "name": "stdout",
     "output_type": "stream",
     "text": [
      "(Base,SuperR) Unets Val Loss: (0.51705, 1.0153)\n",
      "### Epoch 3 of 40 ###\n"
     ]
    },
    {
     "name": "stderr",
     "output_type": "stream",
     "text": [
      "train: 100%|██████████| 1/1 [00:00<00:00,  2.87it/s]\n"
     ]
    },
    {
     "name": "stdout",
     "output_type": "stream",
     "text": [
      "(Base,SuperR) Unets Train Loss: (0.50119, 1.00644)\n"
     ]
    },
    {
     "name": "stderr",
     "output_type": "stream",
     "text": [
      "valid: 100%|██████████| 2/2 [00:00<00:00,  2.88it/s]\n"
     ]
    },
    {
     "name": "stdout",
     "output_type": "stream",
     "text": [
      "(Base,SuperR) Unets Val Loss: (0.55107, 0.96106)\n",
      "### Epoch 4 of 40 ###\n"
     ]
    },
    {
     "name": "stderr",
     "output_type": "stream",
     "text": [
      "train: 100%|██████████| 1/1 [00:00<00:00,  2.84it/s]\n"
     ]
    },
    {
     "name": "stdout",
     "output_type": "stream",
     "text": [
      "(Base,SuperR) Unets Train Loss: (0.37118, 0.96437)\n"
     ]
    },
    {
     "name": "stderr",
     "output_type": "stream",
     "text": [
      "valid: 100%|██████████| 2/2 [00:00<00:00,  2.88it/s]\n"
     ]
    },
    {
     "name": "stdout",
     "output_type": "stream",
     "text": [
      "(Base,SuperR) Unets Val Loss: (0.39539, 0.93784)\n",
      "### Epoch 5 of 40 ###\n"
     ]
    },
    {
     "name": "stderr",
     "output_type": "stream",
     "text": [
      "train: 100%|██████████| 1/1 [00:00<00:00,  2.71it/s]\n"
     ]
    },
    {
     "name": "stdout",
     "output_type": "stream",
     "text": [
      "(Base,SuperR) Unets Train Loss: (0.42515, 0.94473)\n"
     ]
    },
    {
     "name": "stderr",
     "output_type": "stream",
     "text": [
      "valid: 100%|██████████| 2/2 [00:00<00:00,  2.86it/s]\n"
     ]
    },
    {
     "name": "stdout",
     "output_type": "stream",
     "text": [
      "(Base,SuperR) Unets Val Loss: (0.29375, 0.9492)\n",
      "### Epoch 6 of 40 ###\n"
     ]
    },
    {
     "name": "stderr",
     "output_type": "stream",
     "text": [
      "train: 100%|██████████| 1/1 [00:00<00:00,  2.60it/s]\n"
     ]
    },
    {
     "name": "stdout",
     "output_type": "stream",
     "text": [
      "(Base,SuperR) Unets Train Loss: (0.30933, 0.9892)\n"
     ]
    },
    {
     "name": "stderr",
     "output_type": "stream",
     "text": [
      "valid: 100%|██████████| 2/2 [00:00<00:00,  2.98it/s]\n"
     ]
    },
    {
     "name": "stdout",
     "output_type": "stream",
     "text": [
      "(Base,SuperR) Unets Val Loss: (0.23274, 0.99556)\n",
      "### Epoch 7 of 40 ###\n"
     ]
    },
    {
     "name": "stderr",
     "output_type": "stream",
     "text": [
      "train: 100%|██████████| 1/1 [00:00<00:00,  2.86it/s]\n"
     ]
    },
    {
     "name": "stdout",
     "output_type": "stream",
     "text": [
      "(Base,SuperR) Unets Train Loss: (0.89589, 1.00757)\n"
     ]
    },
    {
     "name": "stderr",
     "output_type": "stream",
     "text": [
      "valid: 100%|██████████| 2/2 [00:00<00:00,  3.01it/s]\n"
     ]
    },
    {
     "name": "stdout",
     "output_type": "stream",
     "text": [
      "(Base,SuperR) Unets Val Loss: (0.44511, 0.91257)\n",
      "### Epoch 8 of 40 ###\n"
     ]
    },
    {
     "name": "stderr",
     "output_type": "stream",
     "text": [
      "train: 100%|██████████| 1/1 [00:00<00:00,  2.80it/s]\n"
     ]
    },
    {
     "name": "stdout",
     "output_type": "stream",
     "text": [
      "(Base,SuperR) Unets Train Loss: (0.21432, 0.95052)\n"
     ]
    },
    {
     "name": "stderr",
     "output_type": "stream",
     "text": [
      "valid: 100%|██████████| 2/2 [00:00<00:00,  2.96it/s]\n"
     ]
    },
    {
     "name": "stdout",
     "output_type": "stream",
     "text": [
      "(Base,SuperR) Unets Val Loss: (0.20305, 0.9098)\n",
      "### Epoch 9 of 40 ###\n"
     ]
    },
    {
     "name": "stderr",
     "output_type": "stream",
     "text": [
      "train: 100%|██████████| 1/1 [00:00<00:00,  2.91it/s]\n"
     ]
    },
    {
     "name": "stdout",
     "output_type": "stream",
     "text": [
      "(Base,SuperR) Unets Train Loss: (0.29548, 0.95329)\n"
     ]
    },
    {
     "name": "stderr",
     "output_type": "stream",
     "text": [
      "valid: 100%|██████████| 2/2 [00:00<00:00,  2.94it/s]\n"
     ]
    },
    {
     "name": "stdout",
     "output_type": "stream",
     "text": [
      "(Base,SuperR) Unets Val Loss: (0.17963, 0.93564)\n",
      "### Epoch 10 of 40 ###\n"
     ]
    },
    {
     "name": "stderr",
     "output_type": "stream",
     "text": [
      "train: 100%|██████████| 1/1 [00:00<00:00,  2.70it/s]\n"
     ]
    },
    {
     "name": "stdout",
     "output_type": "stream",
     "text": [
      "(Base,SuperR) Unets Train Loss: (0.59317, 0.86511)\n"
     ]
    },
    {
     "name": "stderr",
     "output_type": "stream",
     "text": [
      "valid: 100%|██████████| 2/2 [00:00<00:00,  2.88it/s]\n"
     ]
    },
    {
     "name": "stdout",
     "output_type": "stream",
     "text": [
      "(Base,SuperR) Unets Val Loss: (0.17664, 0.91122)\n",
      "### Epoch 11 of 40 ###\n"
     ]
    },
    {
     "name": "stderr",
     "output_type": "stream",
     "text": [
      "train: 100%|██████████| 1/1 [00:00<00:00,  2.76it/s]\n"
     ]
    },
    {
     "name": "stdout",
     "output_type": "stream",
     "text": [
      "(Base,SuperR) Unets Train Loss: (0.2411, 0.85762)\n"
     ]
    },
    {
     "name": "stderr",
     "output_type": "stream",
     "text": [
      "valid: 100%|██████████| 2/2 [00:00<00:00,  3.09it/s]\n"
     ]
    },
    {
     "name": "stdout",
     "output_type": "stream",
     "text": [
      "(Base,SuperR) Unets Val Loss: (0.16354, 0.85938)\n",
      "### Epoch 12 of 40 ###\n"
     ]
    },
    {
     "name": "stderr",
     "output_type": "stream",
     "text": [
      "train: 100%|██████████| 1/1 [00:00<00:00,  2.76it/s]\n"
     ]
    },
    {
     "name": "stdout",
     "output_type": "stream",
     "text": [
      "(Base,SuperR) Unets Train Loss: (0.4001, 0.91721)\n"
     ]
    },
    {
     "name": "stderr",
     "output_type": "stream",
     "text": [
      "valid: 100%|██████████| 2/2 [00:00<00:00,  3.02it/s]\n"
     ]
    },
    {
     "name": "stdout",
     "output_type": "stream",
     "text": [
      "(Base,SuperR) Unets Val Loss: (0.29434, 0.87504)\n",
      "### Epoch 13 of 40 ###\n"
     ]
    },
    {
     "name": "stderr",
     "output_type": "stream",
     "text": [
      "train: 100%|██████████| 1/1 [00:00<00:00,  2.90it/s]\n"
     ]
    },
    {
     "name": "stdout",
     "output_type": "stream",
     "text": [
      "(Base,SuperR) Unets Train Loss: (0.15664, 0.83645)\n"
     ]
    },
    {
     "name": "stderr",
     "output_type": "stream",
     "text": [
      "valid: 100%|██████████| 2/2 [00:00<00:00,  3.08it/s]\n"
     ]
    },
    {
     "name": "stdout",
     "output_type": "stream",
     "text": [
      "(Base,SuperR) Unets Val Loss: (0.30195, 0.80671)\n",
      "### Epoch 14 of 40 ###\n"
     ]
    },
    {
     "name": "stderr",
     "output_type": "stream",
     "text": [
      "train: 100%|██████████| 1/1 [00:00<00:00,  2.87it/s]\n"
     ]
    },
    {
     "name": "stdout",
     "output_type": "stream",
     "text": [
      "(Base,SuperR) Unets Train Loss: (0.13958, 0.86836)\n"
     ]
    },
    {
     "name": "stderr",
     "output_type": "stream",
     "text": [
      "valid: 100%|██████████| 2/2 [00:00<00:00,  3.12it/s]\n"
     ]
    },
    {
     "name": "stdout",
     "output_type": "stream",
     "text": [
      "(Base,SuperR) Unets Val Loss: (0.18551, 0.80152)\n",
      "### Epoch 15 of 40 ###\n"
     ]
    },
    {
     "name": "stderr",
     "output_type": "stream",
     "text": [
      "train: 100%|██████████| 1/1 [00:00<00:00,  2.73it/s]\n"
     ]
    },
    {
     "name": "stdout",
     "output_type": "stream",
     "text": [
      "(Base,SuperR) Unets Train Loss: (0.16001, 0.79514)\n"
     ]
    },
    {
     "name": "stderr",
     "output_type": "stream",
     "text": [
      "valid: 100%|██████████| 2/2 [00:00<00:00,  2.96it/s]\n"
     ]
    },
    {
     "name": "stdout",
     "output_type": "stream",
     "text": [
      "(Base,SuperR) Unets Val Loss: (0.12575, 0.82399)\n",
      "### Epoch 16 of 40 ###\n"
     ]
    },
    {
     "name": "stderr",
     "output_type": "stream",
     "text": [
      "train: 100%|██████████| 1/1 [00:00<00:00,  2.88it/s]\n"
     ]
    },
    {
     "name": "stdout",
     "output_type": "stream",
     "text": [
      "(Base,SuperR) Unets Train Loss: (0.11154, 0.78187)\n"
     ]
    },
    {
     "name": "stderr",
     "output_type": "stream",
     "text": [
      "valid: 100%|██████████| 2/2 [00:00<00:00,  3.09it/s]\n"
     ]
    },
    {
     "name": "stdout",
     "output_type": "stream",
     "text": [
      "(Base,SuperR) Unets Val Loss: (0.49851, 0.838)\n",
      "### Epoch 17 of 40 ###\n"
     ]
    },
    {
     "name": "stderr",
     "output_type": "stream",
     "text": [
      "train: 100%|██████████| 1/1 [00:00<00:00,  2.87it/s]\n"
     ]
    },
    {
     "name": "stdout",
     "output_type": "stream",
     "text": [
      "(Base,SuperR) Unets Train Loss: (0.10054, 0.74662)\n"
     ]
    },
    {
     "name": "stderr",
     "output_type": "stream",
     "text": [
      "valid: 100%|██████████| 2/2 [00:00<00:00,  3.03it/s]\n"
     ]
    },
    {
     "name": "stdout",
     "output_type": "stream",
     "text": [
      "(Base,SuperR) Unets Val Loss: (0.1738, 0.85151)\n",
      "### Epoch 18 of 40 ###\n"
     ]
    },
    {
     "name": "stderr",
     "output_type": "stream",
     "text": [
      "train: 100%|██████████| 1/1 [00:00<00:00,  3.06it/s]\n"
     ]
    },
    {
     "name": "stdout",
     "output_type": "stream",
     "text": [
      "(Base,SuperR) Unets Train Loss: (0.28738, 0.77016)\n"
     ]
    },
    {
     "name": "stderr",
     "output_type": "stream",
     "text": [
      "valid: 100%|██████████| 2/2 [00:00<00:00,  3.03it/s]\n"
     ]
    },
    {
     "name": "stdout",
     "output_type": "stream",
     "text": [
      "(Base,SuperR) Unets Val Loss: (0.44283, 0.71638)\n",
      "### Epoch 19 of 40 ###\n"
     ]
    },
    {
     "name": "stderr",
     "output_type": "stream",
     "text": [
      "train: 100%|██████████| 1/1 [00:00<00:00,  2.91it/s]\n"
     ]
    },
    {
     "name": "stdout",
     "output_type": "stream",
     "text": [
      "(Base,SuperR) Unets Train Loss: (0.19565, 0.7851)\n"
     ]
    },
    {
     "name": "stderr",
     "output_type": "stream",
     "text": [
      "valid: 100%|██████████| 2/2 [00:00<00:00,  3.05it/s]\n"
     ]
    },
    {
     "name": "stdout",
     "output_type": "stream",
     "text": [
      "(Base,SuperR) Unets Val Loss: (0.11614, 0.69229)\n",
      "### Epoch 20 of 40 ###\n"
     ]
    },
    {
     "name": "stderr",
     "output_type": "stream",
     "text": [
      "train: 100%|██████████| 1/1 [00:00<00:00,  2.86it/s]\n"
     ]
    },
    {
     "name": "stdout",
     "output_type": "stream",
     "text": [
      "(Base,SuperR) Unets Train Loss: (0.49639, 0.70777)\n"
     ]
    },
    {
     "name": "stderr",
     "output_type": "stream",
     "text": [
      "valid: 100%|██████████| 2/2 [00:00<00:00,  3.01it/s]\n"
     ]
    },
    {
     "name": "stdout",
     "output_type": "stream",
     "text": [
      "(Base,SuperR) Unets Val Loss: (0.17641, 0.74863)\n",
      "### Epoch 21 of 40 ###\n"
     ]
    },
    {
     "name": "stderr",
     "output_type": "stream",
     "text": [
      "train: 100%|██████████| 1/1 [00:00<00:00,  2.95it/s]\n"
     ]
    },
    {
     "name": "stdout",
     "output_type": "stream",
     "text": [
      "(Base,SuperR) Unets Train Loss: (0.08765, 0.6627)\n"
     ]
    },
    {
     "name": "stderr",
     "output_type": "stream",
     "text": [
      "valid: 100%|██████████| 2/2 [00:00<00:00,  3.06it/s]\n"
     ]
    },
    {
     "name": "stdout",
     "output_type": "stream",
     "text": [
      "(Base,SuperR) Unets Val Loss: (0.16138, 0.69058)\n",
      "### Epoch 22 of 40 ###\n"
     ]
    },
    {
     "name": "stderr",
     "output_type": "stream",
     "text": [
      "train: 100%|██████████| 1/1 [00:00<00:00,  2.96it/s]\n"
     ]
    },
    {
     "name": "stdout",
     "output_type": "stream",
     "text": [
      "(Base,SuperR) Unets Train Loss: (0.08309, 0.66886)\n"
     ]
    },
    {
     "name": "stderr",
     "output_type": "stream",
     "text": [
      "valid: 100%|██████████| 2/2 [00:00<00:00,  3.02it/s]\n"
     ]
    },
    {
     "name": "stdout",
     "output_type": "stream",
     "text": [
      "(Base,SuperR) Unets Val Loss: (0.12118, 0.63272)\n",
      "### Epoch 23 of 40 ###\n"
     ]
    },
    {
     "name": "stderr",
     "output_type": "stream",
     "text": [
      "train: 100%|██████████| 1/1 [00:00<00:00,  2.91it/s]\n"
     ]
    },
    {
     "name": "stdout",
     "output_type": "stream",
     "text": [
      "(Base,SuperR) Unets Train Loss: (0.08685, 0.67838)\n"
     ]
    },
    {
     "name": "stderr",
     "output_type": "stream",
     "text": [
      "valid: 100%|██████████| 2/2 [00:00<00:00,  3.07it/s]\n"
     ]
    },
    {
     "name": "stdout",
     "output_type": "stream",
     "text": [
      "(Base,SuperR) Unets Val Loss: (0.11994, 0.64796)\n",
      "### Epoch 24 of 40 ###\n"
     ]
    },
    {
     "name": "stderr",
     "output_type": "stream",
     "text": [
      "train: 100%|██████████| 1/1 [00:00<00:00,  2.94it/s]\n"
     ]
    },
    {
     "name": "stdout",
     "output_type": "stream",
     "text": [
      "(Base,SuperR) Unets Train Loss: (0.26942, 0.66788)\n"
     ]
    },
    {
     "name": "stderr",
     "output_type": "stream",
     "text": [
      "valid: 100%|██████████| 2/2 [00:00<00:00,  3.07it/s]\n"
     ]
    },
    {
     "name": "stdout",
     "output_type": "stream",
     "text": [
      "(Base,SuperR) Unets Val Loss: (0.15359, 0.61307)\n",
      "### Epoch 25 of 40 ###\n"
     ]
    },
    {
     "name": "stderr",
     "output_type": "stream",
     "text": [
      "train: 100%|██████████| 1/1 [00:00<00:00,  2.94it/s]\n"
     ]
    },
    {
     "name": "stdout",
     "output_type": "stream",
     "text": [
      "(Base,SuperR) Unets Train Loss: (0.08746, 0.70066)\n"
     ]
    },
    {
     "name": "stderr",
     "output_type": "stream",
     "text": [
      "valid: 100%|██████████| 2/2 [00:00<00:00,  3.05it/s]\n"
     ]
    },
    {
     "name": "stdout",
     "output_type": "stream",
     "text": [
      "(Base,SuperR) Unets Val Loss: (0.27182, 0.64397)\n",
      "### Epoch 26 of 40 ###\n"
     ]
    },
    {
     "name": "stderr",
     "output_type": "stream",
     "text": [
      "train: 100%|██████████| 1/1 [00:00<00:00,  2.97it/s]\n"
     ]
    },
    {
     "name": "stdout",
     "output_type": "stream",
     "text": [
      "(Base,SuperR) Unets Train Loss: (0.18347, 0.58699)\n"
     ]
    },
    {
     "name": "stderr",
     "output_type": "stream",
     "text": [
      "valid: 100%|██████████| 2/2 [00:00<00:00,  2.98it/s]\n"
     ]
    },
    {
     "name": "stdout",
     "output_type": "stream",
     "text": [
      "(Base,SuperR) Unets Val Loss: (0.14829, 0.59693)\n",
      "### Epoch 27 of 40 ###\n"
     ]
    },
    {
     "name": "stderr",
     "output_type": "stream",
     "text": [
      "train: 100%|██████████| 1/1 [00:00<00:00,  2.85it/s]\n"
     ]
    },
    {
     "name": "stdout",
     "output_type": "stream",
     "text": [
      "(Base,SuperR) Unets Train Loss: (0.49628, 0.72377)\n"
     ]
    },
    {
     "name": "stderr",
     "output_type": "stream",
     "text": [
      "valid: 100%|██████████| 2/2 [00:00<00:00,  3.17it/s]\n"
     ]
    },
    {
     "name": "stdout",
     "output_type": "stream",
     "text": [
      "(Base,SuperR) Unets Val Loss: (0.09825, 0.68189)\n",
      "### Epoch 28 of 40 ###\n"
     ]
    },
    {
     "name": "stderr",
     "output_type": "stream",
     "text": [
      "train: 100%|██████████| 1/1 [00:00<00:00,  2.90it/s]\n"
     ]
    },
    {
     "name": "stdout",
     "output_type": "stream",
     "text": [
      "(Base,SuperR) Unets Train Loss: (0.09467, 0.74869)\n"
     ]
    },
    {
     "name": "stderr",
     "output_type": "stream",
     "text": [
      "valid: 100%|██████████| 2/2 [00:00<00:00,  3.04it/s]\n"
     ]
    },
    {
     "name": "stdout",
     "output_type": "stream",
     "text": [
      "(Base,SuperR) Unets Val Loss: (0.20273, 0.5516)\n",
      "### Epoch 29 of 40 ###\n"
     ]
    },
    {
     "name": "stderr",
     "output_type": "stream",
     "text": [
      "train: 100%|██████████| 1/1 [00:00<00:00,  3.03it/s]\n"
     ]
    },
    {
     "name": "stdout",
     "output_type": "stream",
     "text": [
      "(Base,SuperR) Unets Train Loss: (0.41078, 0.5756)\n"
     ]
    },
    {
     "name": "stderr",
     "output_type": "stream",
     "text": [
      "valid: 100%|██████████| 2/2 [00:00<00:00,  2.98it/s]\n"
     ]
    },
    {
     "name": "stdout",
     "output_type": "stream",
     "text": [
      "(Base,SuperR) Unets Val Loss: (0.08847, 0.64581)\n",
      "### Epoch 30 of 40 ###\n"
     ]
    },
    {
     "name": "stderr",
     "output_type": "stream",
     "text": [
      "train: 100%|██████████| 1/1 [00:00<00:00,  2.95it/s]\n"
     ]
    },
    {
     "name": "stdout",
     "output_type": "stream",
     "text": [
      "(Base,SuperR) Unets Train Loss: (0.23172, 0.55391)\n"
     ]
    },
    {
     "name": "stderr",
     "output_type": "stream",
     "text": [
      "valid: 100%|██████████| 2/2 [00:00<00:00,  3.04it/s]\n"
     ]
    },
    {
     "name": "stdout",
     "output_type": "stream",
     "text": [
      "(Base,SuperR) Unets Val Loss: (0.1731, 0.69131)\n",
      "### Epoch 31 of 40 ###\n"
     ]
    },
    {
     "name": "stderr",
     "output_type": "stream",
     "text": [
      "train: 100%|██████████| 1/1 [00:00<00:00,  2.87it/s]\n"
     ]
    },
    {
     "name": "stdout",
     "output_type": "stream",
     "text": [
      "(Base,SuperR) Unets Train Loss: (0.11334, 0.5376)\n"
     ]
    },
    {
     "name": "stderr",
     "output_type": "stream",
     "text": [
      "valid: 100%|██████████| 2/2 [00:00<00:00,  3.10it/s]\n"
     ]
    },
    {
     "name": "stdout",
     "output_type": "stream",
     "text": [
      "(Base,SuperR) Unets Val Loss: (0.19077, 0.67729)\n",
      "### Epoch 32 of 40 ###\n"
     ]
    },
    {
     "name": "stderr",
     "output_type": "stream",
     "text": [
      "train: 100%|██████████| 1/1 [00:00<00:00,  2.92it/s]\n"
     ]
    },
    {
     "name": "stdout",
     "output_type": "stream",
     "text": [
      "(Base,SuperR) Unets Train Loss: (0.11931, 0.49026)\n"
     ]
    },
    {
     "name": "stderr",
     "output_type": "stream",
     "text": [
      "valid: 100%|██████████| 2/2 [00:00<00:00,  3.05it/s]\n"
     ]
    },
    {
     "name": "stdout",
     "output_type": "stream",
     "text": [
      "(Base,SuperR) Unets Val Loss: (0.22753, 0.55273)\n",
      "### Epoch 33 of 40 ###\n"
     ]
    },
    {
     "name": "stderr",
     "output_type": "stream",
     "text": [
      "train: 100%|██████████| 1/1 [00:00<00:00,  2.95it/s]\n"
     ]
    },
    {
     "name": "stdout",
     "output_type": "stream",
     "text": [
      "(Base,SuperR) Unets Train Loss: (0.46263, 0.50838)\n"
     ]
    },
    {
     "name": "stderr",
     "output_type": "stream",
     "text": [
      "valid: 100%|██████████| 2/2 [00:00<00:00,  3.03it/s]\n"
     ]
    },
    {
     "name": "stdout",
     "output_type": "stream",
     "text": [
      "(Base,SuperR) Unets Val Loss: (0.0785, 0.49264)\n",
      "### Epoch 34 of 40 ###\n"
     ]
    },
    {
     "name": "stderr",
     "output_type": "stream",
     "text": [
      "train: 100%|██████████| 1/1 [00:00<00:00,  3.02it/s]\n"
     ]
    },
    {
     "name": "stdout",
     "output_type": "stream",
     "text": [
      "(Base,SuperR) Unets Train Loss: (0.19734, 0.47292)\n"
     ]
    },
    {
     "name": "stderr",
     "output_type": "stream",
     "text": [
      "valid: 100%|██████████| 2/2 [00:00<00:00,  3.09it/s]\n"
     ]
    },
    {
     "name": "stdout",
     "output_type": "stream",
     "text": [
      "(Base,SuperR) Unets Val Loss: (0.08798, 0.52997)\n",
      "### Epoch 35 of 40 ###\n"
     ]
    },
    {
     "name": "stderr",
     "output_type": "stream",
     "text": [
      "train: 100%|██████████| 1/1 [00:00<00:00,  2.96it/s]\n"
     ]
    },
    {
     "name": "stdout",
     "output_type": "stream",
     "text": [
      "(Base,SuperR) Unets Train Loss: (0.17511, 0.46353)\n"
     ]
    },
    {
     "name": "stderr",
     "output_type": "stream",
     "text": [
      "valid: 100%|██████████| 2/2 [00:00<00:00,  3.10it/s]\n"
     ]
    },
    {
     "name": "stdout",
     "output_type": "stream",
     "text": [
      "(Base,SuperR) Unets Val Loss: (0.11926, 0.60983)\n",
      "### Epoch 36 of 40 ###\n"
     ]
    },
    {
     "name": "stderr",
     "output_type": "stream",
     "text": [
      "train: 100%|██████████| 1/1 [00:00<00:00,  2.95it/s]\n"
     ]
    },
    {
     "name": "stdout",
     "output_type": "stream",
     "text": [
      "(Base,SuperR) Unets Train Loss: (0.11404, 0.43703)\n"
     ]
    },
    {
     "name": "stderr",
     "output_type": "stream",
     "text": [
      "valid: 100%|██████████| 2/2 [00:00<00:00,  3.04it/s]\n"
     ]
    },
    {
     "name": "stdout",
     "output_type": "stream",
     "text": [
      "(Base,SuperR) Unets Val Loss: (0.10286, 0.50771)\n",
      "### Epoch 37 of 40 ###\n"
     ]
    },
    {
     "name": "stderr",
     "output_type": "stream",
     "text": [
      "train: 100%|██████████| 1/1 [00:00<00:00,  2.82it/s]\n"
     ]
    },
    {
     "name": "stdout",
     "output_type": "stream",
     "text": [
      "(Base,SuperR) Unets Train Loss: (0.06157, 0.70559)\n"
     ]
    },
    {
     "name": "stderr",
     "output_type": "stream",
     "text": [
      "valid: 100%|██████████| 2/2 [00:00<00:00,  3.06it/s]\n"
     ]
    },
    {
     "name": "stdout",
     "output_type": "stream",
     "text": [
      "(Base,SuperR) Unets Val Loss: (0.16251, 0.66222)\n",
      "### Epoch 38 of 40 ###\n"
     ]
    },
    {
     "name": "stderr",
     "output_type": "stream",
     "text": [
      "train: 100%|██████████| 1/1 [00:00<00:00,  2.93it/s]\n"
     ]
    },
    {
     "name": "stdout",
     "output_type": "stream",
     "text": [
      "(Base,SuperR) Unets Train Loss: (0.0647, 0.40441)\n"
     ]
    },
    {
     "name": "stderr",
     "output_type": "stream",
     "text": [
      "valid: 100%|██████████| 2/2 [00:00<00:00,  3.05it/s]\n"
     ]
    },
    {
     "name": "stdout",
     "output_type": "stream",
     "text": [
      "(Base,SuperR) Unets Val Loss: (0.14759, 0.39536)\n",
      "### Epoch 39 of 40 ###\n"
     ]
    },
    {
     "name": "stderr",
     "output_type": "stream",
     "text": [
      "train: 100%|██████████| 1/1 [00:00<00:00,  3.00it/s]\n"
     ]
    },
    {
     "name": "stdout",
     "output_type": "stream",
     "text": [
      "(Base,SuperR) Unets Train Loss: (0.06315, 0.42514)\n"
     ]
    },
    {
     "name": "stderr",
     "output_type": "stream",
     "text": [
      "valid: 100%|██████████| 2/2 [00:00<00:00,  3.04it/s]\n"
     ]
    },
    {
     "name": "stdout",
     "output_type": "stream",
     "text": [
      "(Base,SuperR) Unets Val Loss: (0.07702, 0.47859)\n",
      "### Epoch 40 of 40 ###\n"
     ]
    },
    {
     "name": "stderr",
     "output_type": "stream",
     "text": [
      "train: 100%|██████████| 1/1 [00:00<00:00,  2.84it/s]\n"
     ]
    },
    {
     "name": "stdout",
     "output_type": "stream",
     "text": [
      "(Base,SuperR) Unets Train Loss: (0.42677, 0.3999)\n"
     ]
    },
    {
     "name": "stderr",
     "output_type": "stream",
     "text": [
      "valid: 100%|██████████| 2/2 [00:00<00:00,  3.01it/s]"
     ]
    },
    {
     "name": "stdout",
     "output_type": "stream",
     "text": [
      "(Base,SuperR) Unets Val Loss: (0.19586, 0.38244)\n"
     ]
    },
    {
     "name": "stderr",
     "output_type": "stream",
     "text": [
      "\n"
     ]
    }
   ],
   "source": [
    "args.EPOCHS=40\n",
    "train_unet_losses, val_unet_losses=MinimagenTrain(\n",
    "    exp_name,\n",
    "    args,\n",
    "    unets,\n",
    "    imagen,\n",
    "    train_dataloader,\n",
    "    valid_dataloader,\n",
    "    training_dir,\n",
    "    optimizer,\n",
    ")\n"
   ]
  },
  {
   "cell_type": "code",
   "execution_count": 41,
   "metadata": {},
   "outputs": [
    {
     "data": {
      "image/png": "[encoded data removed]",
      "text/plain": [
       "<Figure size 1500x500 with 2 Axes>"
      ]
     },
     "metadata": {},
     "output_type": "display_data"
    }
   ],
   "source": [
    "fig, ax = plt.subplots(1, 2, figsize=(15, 5))\n",
    "for i, unet_name in enumerate(['base', 'super']):\n",
    "    ax[i].set_title(unet_name)\n",
    "    ax[i].plot(train_unet_losses[unet_name], label='train')\n",
    "    ax[i].plot(val_unet_losses[unet_name], label='val')\n",
    "    ax[i].legend()"
   ]
  },
  {
   "cell_type": "code",
   "execution_count": null,
   "metadata": {},
   "outputs": [],
   "source": []
  }
 ],
 "metadata": {
  "kernelspec": {
   "display_name": "ssdc",
   "language": "python",
   "name": "python3"
  },
  "language_info": {
   "codemirror_mode": {
    "name": "ipython",
    "version": 3
   },
   "file_extension": ".py",
   "mimetype": "text/x-python",
   "name": "python",
   "nbconvert_exporter": "python",
   "pygments_lexer": "ipython3",
   "version": "3.10.10"
  },
  "orig_nbformat": 4
 },
 "nbformat": 4,
 "nbformat_minor": 2
}
