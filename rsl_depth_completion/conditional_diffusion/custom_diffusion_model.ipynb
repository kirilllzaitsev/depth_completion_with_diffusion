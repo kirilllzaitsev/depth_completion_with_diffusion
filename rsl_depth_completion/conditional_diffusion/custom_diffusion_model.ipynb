{
 "cells": [
  {
   "cell_type": "code",
   "execution_count": 2,
   "metadata": {},
   "outputs": [],
   "source": [
    "import numpy as np\n",
    "import matplotlib.pyplot as plt\n",
    "import os\n",
    "from pathlib import Path\n",
    "from glob import glob\n",
    "import cv2\n",
    "import torch\n",
    "from PIL import Image\n",
    "import tqdm\n",
    "\n",
    "from rsl_depth_completion.diffusion.inference_utils import sample\n",
    "from rsl_depth_completion.diffusion.configs import DiffusionConfig\n",
    "from torchvision import transforms\n",
    "from torch.utils.data import DataLoader\n",
    "import torchvision as tv\n",
    "from rsl_depth_completion.diffusion.training_utils import q_sample\n",
    "from rsl_depth_completion.diffusion.utils import extract\n",
    "from rsl_depth_completion.diffusion.utils import set_seed\n",
    "from torchvision.utils import save_image\n",
    "from rsl_depth_completion.diffusion.schedulers import (cosine_beta_schedule,\n",
    "linear_beta_schedule,\n",
    "quadratic_beta_schedule,\n",
    "sigmoid_beta_schedule)\n",
    "import torch.nn.functional as F\n",
    "from torch.optim import Adam\n",
    "import gc\n",
    "\n",
    "from pathlib import Path\n",
    "import shutil\n",
    "\n",
    "%matplotlib inline"
   ]
  },
  {
   "attachments": {},
   "cell_type": "markdown",
   "metadata": {},
   "source": [
    "# config"
   ]
  },
  {
   "cell_type": "code",
   "execution_count": 3,
   "metadata": {},
   "outputs": [],
   "source": [
    "input_channels = 1\n",
    "timesteps = 200\n",
    "# timesteps = 30\n",
    "\n",
    "seed = 100\n",
    "set_seed(seed)\n",
    "\n",
    "run_name='test'\n",
    "results_folder = Path(\"./imagen_results\") / run_name\n",
    "shutil.rmtree(results_folder, ignore_errors=True)\n",
    "results_folder.mkdir(parents=True,exist_ok = True)\n",
    "\n",
    "init_image_size = (352, 1216)\n",
    "crop_image_size = (352, 1216 // 3)\n",
    "target_image_size = (152, 200)\n",
    "input_channels = 1\n",
    "batch_size = 2\n",
    "\n"
   ]
  },
  {
   "attachments": {},
   "cell_type": "markdown",
   "metadata": {},
   "source": [
    "# model"
   ]
  },
  {
   "cell_type": "code",
   "execution_count": 5,
   "metadata": {},
   "outputs": [],
   "source": [
    "from rsl_depth_completion.conditional_diffusion.utils import get_model_params\n",
    "from rsl_depth_completion.conditional_diffusion.train import MinimagenTrain"
   ]
  },
  {
   "cell_type": "code",
   "execution_count": 6,
   "metadata": {},
   "outputs": [],
   "source": [
    "import os\n",
    "from datetime import datetime\n",
    "\n",
    "import torch.utils.data\n",
    "from torch import optim\n",
    "from minimagen.Imagen import Imagen\n",
    "from minimagen.Unet import Unet\n",
    "from minimagen.training import (\n",
    "    ConceptualCaptions,\n",
    "    get_minimagen_dl_opts,\n",
    "    create_directory,\n",
    ")\n",
    "\n"
   ]
  },
  {
   "cell_type": "code",
   "execution_count": 74,
   "metadata": {},
   "outputs": [],
   "source": [
    "import argparse\n",
    "import torch\n",
    "args = argparse.Namespace(**{\n",
    "    \"PARAMETERS\": \"./imagen_parameters\",\n",
    "    \"BATCH_SIZE\": 2,\n",
    "    \"NUM_WORKERS\": 0,\n",
    "    \"EPOCHS\": 5,\n",
    "    \"OPTIM_LR\": 0.001,\n",
    "    \"ACCUM_ITER\": 1,\n",
    "    \"CHCKPT_NUM\": 500,\n",
    "})\n",
    "params = get_model_params(args.PARAMETERS)\n",
    "data_args = argparse.Namespace(\n",
    "    **{\n",
    "        \"MAX_NUM_WORDS\": 64,\n",
    "        \"T5_NAME\": params['imagen_parameters']['text_encoder_name'],\n",
    "        \"IMG_SIDE_LEN\": params['imagen_parameters'][\"image_sizes\"][1],\n",
    "        \"TRAIN_VALID_FRAC\": 0.9,\n",
    "    }\n",
    ")\n"
   ]
  },
  {
   "cell_type": "code",
   "execution_count": 71,
   "metadata": {},
   "outputs": [],
   "source": [
    "\n",
    "# timestamp = datetime.now().strftime(\"%Y%m%d_%H%M%S\")\n",
    "timestamp = '20230418_205025'\n",
    "dir_path = f\"./training_{timestamp}\"\n",
    "training_dir = create_directory(dir_path)"
   ]
  },
  {
   "cell_type": "code",
   "execution_count": 53,
   "metadata": {},
   "outputs": [
    {
     "name": "stderr",
     "output_type": "stream",
     "text": [
      "No config specified, defaulting to: conceptual_captions/unlabeled\n",
      "Found cached dataset conceptual_captions (/media/master/text/cv_data/hf_home/datasets/conceptual_captions/unlabeled/1.0.0/05266784888422e36944016874c44639bccb39069c2227435168ad8b02d600d8)\n"
     ]
    },
    {
     "data": {
      "application/vnd.jupyter.widget-view+json": {
       "model_id": "cd6304d7c5fc4345a01a686bdd1ebfff",
       "version_major": 2,
       "version_minor": 0
      },
      "text/plain": [
       "  0%|          | 0/2 [00:00<?, ?it/s]"
      ]
     },
     "metadata": {},
     "output_type": "display_data"
    }
   ],
   "source": [
    "from datasets import load_dataset\n",
    "from minimagen.training import MinimagenDataset\n",
    "\n",
    "dset = load_dataset(\"conceptual_captions\")"
   ]
  },
  {
   "cell_type": "code",
   "execution_count": 60,
   "metadata": {},
   "outputs": [
    {
     "name": "stdout",
     "output_type": "stream",
     "text": [
      "6\n"
     ]
    }
   ],
   "source": [
    "train_val_num = args.BATCH_SIZE*3\n",
    "val_num = args.BATCH_SIZE+1\n",
    "vi = dset[\"validation\"][\"image_url\"][:val_num]\n",
    "vc = dset[\"validation\"][\"caption\"][:val_num]\n",
    "ti = dset[\"train\"][\"image_url\"][:train_val_num]\n",
    "tc = dset[\"train\"][\"caption\"][:train_val_num]\n",
    "new_dset = {\n",
    "    \"train\": {\n",
    "        \"image_url\": ti,\n",
    "        \"caption\": tc,\n",
    "    },\n",
    "    \"num_rows\": train_val_num,\n",
    "    \"validation\": {\n",
    "        \"image_url\": vi,\n",
    "        \"caption\": vc,\n",
    "    },\n",
    "    \"num_rows\": val_num,\n",
    "}\n",
    "print(len(new_dset[\"train\"][\"image_url\"]))"
   ]
  },
  {
   "cell_type": "code",
   "execution_count": 64,
   "metadata": {},
   "outputs": [],
   "source": [
    "dataset_train_valid = MinimagenDataset(\n",
    "    new_dset,\n",
    "    max_length=data_args.MAX_NUM_WORDS,\n",
    "    encoder_name=data_args.T5_NAME,\n",
    "    train=True,\n",
    "    side_length=data_args.IMG_SIDE_LEN,\n",
    ")\n",
    "\n",
    "# Split into train/valid\n",
    "train_dataset, valid_dataset = torch.utils.data.random_split(\n",
    "    dataset_train_valid, [2,4]\n",
    "    # dataset_train_valid, [train_num, val_num]\n",
    ")\n",
    "\n",
    "dl_opts = {\n",
    "    **get_minimagen_dl_opts(device),\n",
    "    \"batch_size\": args.BATCH_SIZE,\n",
    "    \"num_workers\": args.NUM_WORKERS,\n",
    "}\n",
    "train_dataloader = torch.utils.data.DataLoader(train_dataset, **dl_opts)\n",
    "valid_dataloader = torch.utils.data.DataLoader(valid_dataset, **dl_opts)\n"
   ]
  },
  {
   "cell_type": "code",
   "execution_count": 66,
   "metadata": {},
   "outputs": [
    {
     "data": {
      "text/plain": [
       "(1, 2)"
      ]
     },
     "execution_count": 66,
     "metadata": {},
     "output_type": "execute_result"
    }
   ],
   "source": [
    "len(train_dataloader), len(valid_dataloader)"
   ]
  },
  {
   "cell_type": "code",
   "execution_count": 67,
   "metadata": {},
   "outputs": [],
   "source": [
    "x_train=next(iter(train_dataloader))\n",
    "x_val=next(iter(valid_dataloader))"
   ]
  },
  {
   "cell_type": "code",
   "execution_count": 72,
   "metadata": {},
   "outputs": [],
   "source": [
    "import gc; gc.collect()\n",
    "torch.cuda.empty_cache()"
   ]
  },
  {
   "cell_type": "code",
   "execution_count": 85,
   "metadata": {},
   "outputs": [],
   "source": [
    "import json\n",
    "\n",
    "with open(\"full_params.json\", \"w\") as f:\n",
    "    f.write(json.dumps(params))"
   ]
  },
  {
   "cell_type": "code",
   "execution_count": 80,
   "metadata": {},
   "outputs": [],
   "source": [
    "device=torch.device(\"cuda:0\" if torch.cuda.is_available() else \"cpu\")\n",
    "# Create Unets accoridng to unets_params\n",
    "unets = [Unet(**params['unet_base']).to(device), Unet(**params['unet_super_resolution']).to(device)]\n",
    "\n",
    "# Create Imagen from UNets with specified imagen parameters\n",
    "imagen = Imagen(unets=unets, **params['imagen_parameters']).to(device)\n",
    "args.OPTIM_LR = 0.005\n",
    "optimizer = optim.Adam(imagen.parameters(), lr=args.OPTIM_LR)"
   ]
  },
  {
   "cell_type": "code",
   "execution_count": 86,
   "metadata": {},
   "outputs": [
    {
     "name": "stdout",
     "output_type": "stream",
     "text": [
      "### Epoch 1 of 30 ###\n"
     ]
    },
    {
     "name": "stderr",
     "output_type": "stream",
     "text": [
      "train: 100%|██████████| 1/1 [01:03<00:00, 63.57s/it]\n"
     ]
    },
    {
     "name": "stdout",
     "output_type": "stream",
     "text": [
      "(Base,SuperR) Unets Train Loss: (0.21916, 0.71512)\n"
     ]
    },
    {
     "name": "stderr",
     "output_type": "stream",
     "text": [
      "valid: 100%|██████████| 2/2 [00:01<00:00,  1.26it/s]\n"
     ]
    },
    {
     "name": "stdout",
     "output_type": "stream",
     "text": [
      "(Base,SuperR) Unets Val Loss: (0.17924, 0.70723)\n",
      "### Epoch 2 of 30 ###\n"
     ]
    },
    {
     "name": "stderr",
     "output_type": "stream",
     "text": [
      "train: 100%|██████████| 1/1 [00:00<00:00,  2.63it/s]\n"
     ]
    },
    {
     "name": "stdout",
     "output_type": "stream",
     "text": [
      "(Base,SuperR) Unets Train Loss: (0.25681, 0.71143)\n"
     ]
    },
    {
     "name": "stderr",
     "output_type": "stream",
     "text": [
      "valid: 100%|██████████| 2/2 [00:00<00:00,  2.01it/s]\n"
     ]
    },
    {
     "name": "stdout",
     "output_type": "stream",
     "text": [
      "(Base,SuperR) Unets Val Loss: (0.26276, 0.70639)\n",
      "### Epoch 3 of 30 ###\n"
     ]
    },
    {
     "name": "stderr",
     "output_type": "stream",
     "text": [
      "train: 100%|██████████| 1/1 [00:00<00:00,  3.01it/s]\n"
     ]
    },
    {
     "name": "stdout",
     "output_type": "stream",
     "text": [
      "(Base,SuperR) Unets Train Loss: (0.43611, 0.73812)\n"
     ]
    },
    {
     "name": "stderr",
     "output_type": "stream",
     "text": [
      "valid: 100%|██████████| 2/2 [00:00<00:00,  2.30it/s]\n"
     ]
    },
    {
     "name": "stdout",
     "output_type": "stream",
     "text": [
      "(Base,SuperR) Unets Val Loss: (0.20471, 0.75362)\n",
      "### Epoch 4 of 30 ###\n"
     ]
    },
    {
     "name": "stderr",
     "output_type": "stream",
     "text": [
      "train: 100%|██████████| 1/1 [00:00<00:00,  3.44it/s]\n"
     ]
    },
    {
     "name": "stdout",
     "output_type": "stream",
     "text": [
      "(Base,SuperR) Unets Train Loss: (0.25396, 0.73121)\n"
     ]
    },
    {
     "name": "stderr",
     "output_type": "stream",
     "text": [
      "valid: 100%|██████████| 2/2 [00:00<00:00,  2.19it/s]\n"
     ]
    },
    {
     "name": "stdout",
     "output_type": "stream",
     "text": [
      "(Base,SuperR) Unets Val Loss: (0.17267, 0.70168)\n",
      "### Epoch 5 of 30 ###\n"
     ]
    },
    {
     "name": "stderr",
     "output_type": "stream",
     "text": [
      "train: 100%|██████████| 1/1 [00:00<00:00,  3.62it/s]\n"
     ]
    },
    {
     "name": "stdout",
     "output_type": "stream",
     "text": [
      "(Base,SuperR) Unets Train Loss: (0.16455, 0.69866)\n"
     ]
    },
    {
     "name": "stderr",
     "output_type": "stream",
     "text": [
      "valid: 100%|██████████| 2/2 [00:00<00:00,  2.13it/s]\n"
     ]
    },
    {
     "name": "stdout",
     "output_type": "stream",
     "text": [
      "(Base,SuperR) Unets Val Loss: (0.15571, 0.76447)\n",
      "### Epoch 6 of 30 ###\n"
     ]
    },
    {
     "name": "stderr",
     "output_type": "stream",
     "text": [
      "train: 100%|██████████| 1/1 [00:00<00:00,  3.40it/s]\n"
     ]
    },
    {
     "name": "stdout",
     "output_type": "stream",
     "text": [
      "(Base,SuperR) Unets Train Loss: (0.15315, 0.68423)\n"
     ]
    },
    {
     "name": "stderr",
     "output_type": "stream",
     "text": [
      "valid: 100%|██████████| 2/2 [00:00<00:00,  2.29it/s]\n"
     ]
    },
    {
     "name": "stdout",
     "output_type": "stream",
     "text": [
      "(Base,SuperR) Unets Val Loss: (0.24898, 0.76699)\n",
      "### Epoch 7 of 30 ###\n"
     ]
    },
    {
     "name": "stderr",
     "output_type": "stream",
     "text": [
      "train: 100%|██████████| 1/1 [00:00<00:00,  3.50it/s]\n"
     ]
    },
    {
     "name": "stdout",
     "output_type": "stream",
     "text": [
      "(Base,SuperR) Unets Train Loss: (0.14322, 0.67151)\n"
     ]
    },
    {
     "name": "stderr",
     "output_type": "stream",
     "text": [
      "valid: 100%|██████████| 2/2 [00:00<00:00,  2.59it/s]\n"
     ]
    },
    {
     "name": "stdout",
     "output_type": "stream",
     "text": [
      "(Base,SuperR) Unets Val Loss: (0.19181, 0.75597)\n",
      "### Epoch 8 of 30 ###\n"
     ]
    },
    {
     "name": "stderr",
     "output_type": "stream",
     "text": [
      "train: 100%|██████████| 1/1 [00:00<00:00,  3.39it/s]\n"
     ]
    },
    {
     "name": "stdout",
     "output_type": "stream",
     "text": [
      "(Base,SuperR) Unets Train Loss: (0.13928, 0.70827)\n"
     ]
    },
    {
     "name": "stderr",
     "output_type": "stream",
     "text": [
      "valid: 100%|██████████| 2/2 [00:01<00:00,  1.45it/s]\n"
     ]
    },
    {
     "name": "stdout",
     "output_type": "stream",
     "text": [
      "(Base,SuperR) Unets Val Loss: (0.42538, 0.68204)\n",
      "### Epoch 9 of 30 ###\n"
     ]
    },
    {
     "name": "stderr",
     "output_type": "stream",
     "text": [
      "train: 100%|██████████| 1/1 [00:00<00:00,  3.24it/s]\n"
     ]
    },
    {
     "name": "stdout",
     "output_type": "stream",
     "text": [
      "(Base,SuperR) Unets Train Loss: (0.21909, 0.66066)\n"
     ]
    },
    {
     "name": "stderr",
     "output_type": "stream",
     "text": [
      "valid: 100%|██████████| 2/2 [00:00<00:00,  2.11it/s]\n"
     ]
    },
    {
     "name": "stdout",
     "output_type": "stream",
     "text": [
      "(Base,SuperR) Unets Val Loss: (0.18523, 0.65383)\n",
      "### Epoch 10 of 30 ###\n"
     ]
    },
    {
     "name": "stderr",
     "output_type": "stream",
     "text": [
      "train: 100%|██████████| 1/1 [00:00<00:00,  3.33it/s]\n"
     ]
    },
    {
     "name": "stdout",
     "output_type": "stream",
     "text": [
      "(Base,SuperR) Unets Train Loss: (0.1277, 0.73936)\n"
     ]
    },
    {
     "name": "stderr",
     "output_type": "stream",
     "text": [
      "valid: 100%|██████████| 2/2 [00:00<00:00,  2.31it/s]\n"
     ]
    },
    {
     "name": "stdout",
     "output_type": "stream",
     "text": [
      "(Base,SuperR) Unets Val Loss: (0.13158, 0.73428)\n",
      "### Epoch 11 of 30 ###\n"
     ]
    },
    {
     "name": "stderr",
     "output_type": "stream",
     "text": [
      "train: 100%|██████████| 1/1 [00:00<00:00,  3.43it/s]\n"
     ]
    },
    {
     "name": "stdout",
     "output_type": "stream",
     "text": [
      "(Base,SuperR) Unets Train Loss: (0.10952, 0.65231)\n"
     ]
    },
    {
     "name": "stderr",
     "output_type": "stream",
     "text": [
      "valid: 100%|██████████| 2/2 [00:00<00:00,  2.05it/s]\n"
     ]
    },
    {
     "name": "stdout",
     "output_type": "stream",
     "text": [
      "(Base,SuperR) Unets Val Loss: (0.1813, 0.75487)\n",
      "### Epoch 12 of 30 ###\n"
     ]
    },
    {
     "name": "stderr",
     "output_type": "stream",
     "text": [
      "train: 100%|██████████| 1/1 [00:00<00:00,  3.51it/s]\n"
     ]
    },
    {
     "name": "stdout",
     "output_type": "stream",
     "text": [
      "(Base,SuperR) Unets Train Loss: (0.15236, 0.64845)\n"
     ]
    },
    {
     "name": "stderr",
     "output_type": "stream",
     "text": [
      "valid: 100%|██████████| 2/2 [00:00<00:00,  2.55it/s]\n"
     ]
    },
    {
     "name": "stdout",
     "output_type": "stream",
     "text": [
      "(Base,SuperR) Unets Val Loss: (0.13866, 0.68316)\n",
      "### Epoch 13 of 30 ###\n"
     ]
    },
    {
     "name": "stderr",
     "output_type": "stream",
     "text": [
      "train: 100%|██████████| 1/1 [00:00<00:00,  3.34it/s]\n"
     ]
    },
    {
     "name": "stdout",
     "output_type": "stream",
     "text": [
      "(Base,SuperR) Unets Train Loss: (0.09765, 0.63364)\n"
     ]
    },
    {
     "name": "stderr",
     "output_type": "stream",
     "text": [
      "valid: 100%|██████████| 2/2 [00:00<00:00,  2.50it/s]\n"
     ]
    },
    {
     "name": "stdout",
     "output_type": "stream",
     "text": [
      "(Base,SuperR) Unets Val Loss: (0.15746, 0.64023)\n",
      "### Epoch 14 of 30 ###\n"
     ]
    },
    {
     "name": "stderr",
     "output_type": "stream",
     "text": [
      "train: 100%|██████████| 1/1 [00:00<00:00,  1.38it/s]\n"
     ]
    },
    {
     "name": "stdout",
     "output_type": "stream",
     "text": [
      "(Base,SuperR) Unets Train Loss: (0.45017, 0.63212)\n"
     ]
    },
    {
     "name": "stderr",
     "output_type": "stream",
     "text": [
      "valid: 100%|██████████| 2/2 [00:00<00:00,  2.13it/s]\n"
     ]
    },
    {
     "name": "stdout",
     "output_type": "stream",
     "text": [
      "(Base,SuperR) Unets Val Loss: (0.17044, 0.62606)\n",
      "### Epoch 15 of 30 ###\n"
     ]
    },
    {
     "name": "stderr",
     "output_type": "stream",
     "text": [
      "train: 100%|██████████| 1/1 [00:00<00:00,  3.26it/s]\n"
     ]
    },
    {
     "name": "stdout",
     "output_type": "stream",
     "text": [
      "(Base,SuperR) Unets Train Loss: (0.09147, 0.62059)\n"
     ]
    },
    {
     "name": "stderr",
     "output_type": "stream",
     "text": [
      "valid: 100%|██████████| 2/2 [00:00<00:00,  2.21it/s]\n"
     ]
    },
    {
     "name": "stdout",
     "output_type": "stream",
     "text": [
      "(Base,SuperR) Unets Val Loss: (0.10241, 0.64023)\n",
      "### Epoch 16 of 30 ###\n"
     ]
    },
    {
     "name": "stderr",
     "output_type": "stream",
     "text": [
      "train: 100%|██████████| 1/1 [00:00<00:00,  3.60it/s]\n"
     ]
    },
    {
     "name": "stdout",
     "output_type": "stream",
     "text": [
      "(Base,SuperR) Unets Train Loss: (0.08121, 0.64272)\n"
     ]
    },
    {
     "name": "stderr",
     "output_type": "stream",
     "text": [
      "valid: 100%|██████████| 2/2 [00:00<00:00,  2.38it/s]\n"
     ]
    },
    {
     "name": "stdout",
     "output_type": "stream",
     "text": [
      "(Base,SuperR) Unets Val Loss: (0.34038, 0.60914)\n",
      "### Epoch 17 of 30 ###\n"
     ]
    },
    {
     "name": "stderr",
     "output_type": "stream",
     "text": [
      "train: 100%|██████████| 1/1 [00:00<00:00,  3.09it/s]\n"
     ]
    },
    {
     "name": "stdout",
     "output_type": "stream",
     "text": [
      "(Base,SuperR) Unets Train Loss: (0.10606, 0.745)\n"
     ]
    },
    {
     "name": "stderr",
     "output_type": "stream",
     "text": [
      "valid: 100%|██████████| 2/2 [00:00<00:00,  2.48it/s]\n"
     ]
    },
    {
     "name": "stdout",
     "output_type": "stream",
     "text": [
      "(Base,SuperR) Unets Val Loss: (0.14637, 0.63633)\n",
      "### Epoch 18 of 30 ###\n"
     ]
    },
    {
     "name": "stderr",
     "output_type": "stream",
     "text": [
      "train: 100%|██████████| 1/1 [00:00<00:00,  3.63it/s]\n"
     ]
    },
    {
     "name": "stdout",
     "output_type": "stream",
     "text": [
      "(Base,SuperR) Unets Train Loss: (0.09729, 0.61708)\n"
     ]
    },
    {
     "name": "stderr",
     "output_type": "stream",
     "text": [
      "valid: 100%|██████████| 2/2 [00:00<00:00,  2.43it/s]\n"
     ]
    },
    {
     "name": "stdout",
     "output_type": "stream",
     "text": [
      "(Base,SuperR) Unets Val Loss: (0.20088, 0.81746)\n",
      "### Epoch 19 of 30 ###\n"
     ]
    },
    {
     "name": "stderr",
     "output_type": "stream",
     "text": [
      "train: 100%|██████████| 1/1 [00:00<00:00,  3.77it/s]\n"
     ]
    },
    {
     "name": "stdout",
     "output_type": "stream",
     "text": [
      "(Base,SuperR) Unets Train Loss: (0.11088, 0.60685)\n"
     ]
    },
    {
     "name": "stderr",
     "output_type": "stream",
     "text": [
      "valid: 100%|██████████| 2/2 [00:00<00:00,  2.52it/s]\n"
     ]
    },
    {
     "name": "stdout",
     "output_type": "stream",
     "text": [
      "(Base,SuperR) Unets Val Loss: (0.06716, 0.60712)\n",
      "### Epoch 20 of 30 ###\n"
     ]
    },
    {
     "name": "stderr",
     "output_type": "stream",
     "text": [
      "train: 100%|██████████| 1/1 [00:00<00:00,  3.53it/s]\n"
     ]
    },
    {
     "name": "stdout",
     "output_type": "stream",
     "text": [
      "(Base,SuperR) Unets Train Loss: (0.08507, 0.61743)\n"
     ]
    },
    {
     "name": "stderr",
     "output_type": "stream",
     "text": [
      "valid: 100%|██████████| 2/2 [00:00<00:00,  2.22it/s]\n"
     ]
    },
    {
     "name": "stdout",
     "output_type": "stream",
     "text": [
      "(Base,SuperR) Unets Val Loss: (0.12818, 0.67541)\n",
      "### Epoch 21 of 30 ###\n"
     ]
    },
    {
     "name": "stderr",
     "output_type": "stream",
     "text": [
      "train: 100%|██████████| 1/1 [00:00<00:00,  3.25it/s]\n"
     ]
    },
    {
     "name": "stdout",
     "output_type": "stream",
     "text": [
      "(Base,SuperR) Unets Train Loss: (0.38574, 0.68791)\n"
     ]
    },
    {
     "name": "stderr",
     "output_type": "stream",
     "text": [
      "valid: 100%|██████████| 2/2 [00:00<00:00,  2.43it/s]\n"
     ]
    },
    {
     "name": "stdout",
     "output_type": "stream",
     "text": [
      "(Base,SuperR) Unets Val Loss: (0.11393, 0.63594)\n",
      "### Epoch 22 of 30 ###\n"
     ]
    },
    {
     "name": "stderr",
     "output_type": "stream",
     "text": [
      "train: 100%|██████████| 1/1 [00:00<00:00,  3.46it/s]\n"
     ]
    },
    {
     "name": "stdout",
     "output_type": "stream",
     "text": [
      "(Base,SuperR) Unets Train Loss: (0.08387, 0.68649)\n"
     ]
    },
    {
     "name": "stderr",
     "output_type": "stream",
     "text": [
      "valid: 100%|██████████| 2/2 [00:00<00:00,  2.14it/s]\n"
     ]
    },
    {
     "name": "stdout",
     "output_type": "stream",
     "text": [
      "(Base,SuperR) Unets Val Loss: (0.07415, 0.68295)\n",
      "### Epoch 23 of 30 ###\n"
     ]
    },
    {
     "name": "stderr",
     "output_type": "stream",
     "text": [
      "train: 100%|██████████| 1/1 [00:00<00:00,  3.17it/s]\n"
     ]
    },
    {
     "name": "stdout",
     "output_type": "stream",
     "text": [
      "(Base,SuperR) Unets Train Loss: (0.07547, 0.79236)\n"
     ]
    },
    {
     "name": "stderr",
     "output_type": "stream",
     "text": [
      "valid: 100%|██████████| 2/2 [00:00<00:00,  2.21it/s]\n"
     ]
    },
    {
     "name": "stdout",
     "output_type": "stream",
     "text": [
      "(Base,SuperR) Unets Val Loss: (0.08572, 0.71514)\n",
      "### Epoch 24 of 30 ###\n"
     ]
    },
    {
     "name": "stderr",
     "output_type": "stream",
     "text": [
      "train: 100%|██████████| 1/1 [00:00<00:00,  3.17it/s]\n"
     ]
    },
    {
     "name": "stdout",
     "output_type": "stream",
     "text": [
      "(Base,SuperR) Unets Train Loss: (0.06605, 0.62885)\n"
     ]
    },
    {
     "name": "stderr",
     "output_type": "stream",
     "text": [
      "valid: 100%|██████████| 2/2 [00:00<00:00,  2.25it/s]\n"
     ]
    },
    {
     "name": "stdout",
     "output_type": "stream",
     "text": [
      "(Base,SuperR) Unets Val Loss: (0.27424, 0.61035)\n",
      "### Epoch 25 of 30 ###\n"
     ]
    },
    {
     "name": "stderr",
     "output_type": "stream",
     "text": [
      "train: 100%|██████████| 1/1 [00:00<00:00,  3.17it/s]\n"
     ]
    },
    {
     "name": "stdout",
     "output_type": "stream",
     "text": [
      "(Base,SuperR) Unets Train Loss: (0.05759, 0.61972)\n"
     ]
    },
    {
     "name": "stderr",
     "output_type": "stream",
     "text": [
      "valid: 100%|██████████| 2/2 [00:00<00:00,  2.48it/s]\n"
     ]
    },
    {
     "name": "stdout",
     "output_type": "stream",
     "text": [
      "(Base,SuperR) Unets Val Loss: (0.07759, 0.68704)\n",
      "### Epoch 26 of 30 ###\n"
     ]
    },
    {
     "name": "stderr",
     "output_type": "stream",
     "text": [
      "train: 100%|██████████| 1/1 [00:00<00:00,  2.95it/s]\n"
     ]
    },
    {
     "name": "stdout",
     "output_type": "stream",
     "text": [
      "(Base,SuperR) Unets Train Loss: (0.06179, 0.88811)\n"
     ]
    },
    {
     "name": "stderr",
     "output_type": "stream",
     "text": [
      "valid: 100%|██████████| 2/2 [00:01<00:00,  1.88it/s]\n"
     ]
    },
    {
     "name": "stdout",
     "output_type": "stream",
     "text": [
      "(Base,SuperR) Unets Val Loss: (0.53728, 0.59249)\n",
      "### Epoch 27 of 30 ###\n"
     ]
    },
    {
     "name": "stderr",
     "output_type": "stream",
     "text": [
      "train: 100%|██████████| 1/1 [00:00<00:00,  2.58it/s]\n"
     ]
    },
    {
     "name": "stdout",
     "output_type": "stream",
     "text": [
      "(Base,SuperR) Unets Train Loss: (0.05999, 0.58678)\n"
     ]
    },
    {
     "name": "stderr",
     "output_type": "stream",
     "text": [
      "valid: 100%|██████████| 2/2 [00:00<00:00,  2.16it/s]\n"
     ]
    },
    {
     "name": "stdout",
     "output_type": "stream",
     "text": [
      "(Base,SuperR) Unets Val Loss: (0.3002, 0.60313)\n",
      "### Epoch 28 of 30 ###\n"
     ]
    },
    {
     "name": "stderr",
     "output_type": "stream",
     "text": [
      "train: 100%|██████████| 1/1 [00:00<00:00,  3.49it/s]\n"
     ]
    },
    {
     "name": "stdout",
     "output_type": "stream",
     "text": [
      "(Base,SuperR) Unets Train Loss: (0.06462, 0.57691)\n"
     ]
    },
    {
     "name": "stderr",
     "output_type": "stream",
     "text": [
      "valid: 100%|██████████| 2/2 [00:01<00:00,  1.89it/s]\n"
     ]
    },
    {
     "name": "stdout",
     "output_type": "stream",
     "text": [
      "(Base,SuperR) Unets Val Loss: (0.28049, 0.63685)\n",
      "### Epoch 29 of 30 ###\n"
     ]
    },
    {
     "name": "stderr",
     "output_type": "stream",
     "text": [
      "train: 100%|██████████| 1/1 [00:00<00:00,  3.30it/s]\n"
     ]
    },
    {
     "name": "stdout",
     "output_type": "stream",
     "text": [
      "(Base,SuperR) Unets Train Loss: (0.21589, 0.57302)\n"
     ]
    },
    {
     "name": "stderr",
     "output_type": "stream",
     "text": [
      "valid: 100%|██████████| 2/2 [00:00<00:00,  2.09it/s]\n"
     ]
    },
    {
     "name": "stdout",
     "output_type": "stream",
     "text": [
      "(Base,SuperR) Unets Val Loss: (0.04978, 0.57626)\n",
      "### Epoch 30 of 30 ###\n"
     ]
    },
    {
     "name": "stderr",
     "output_type": "stream",
     "text": [
      "train: 100%|██████████| 1/1 [00:00<00:00,  2.69it/s]\n"
     ]
    },
    {
     "name": "stdout",
     "output_type": "stream",
     "text": [
      "(Base,SuperR) Unets Train Loss: (0.07234, 0.76016)\n"
     ]
    },
    {
     "name": "stderr",
     "output_type": "stream",
     "text": [
      "valid: 100%|██████████| 2/2 [00:00<00:00,  2.25it/s]"
     ]
    },
    {
     "name": "stdout",
     "output_type": "stream",
     "text": [
      "(Base,SuperR) Unets Val Loss: (0.29645, 0.57337)\n"
     ]
    },
    {
     "name": "stderr",
     "output_type": "stream",
     "text": [
      "\n"
     ]
    }
   ],
   "source": [
    "args.EPOCHS=30\n",
    "train_unet_losses, val_unet_losses=MinimagenTrain(\n",
    "    timestamp,\n",
    "    args,\n",
    "    unets,\n",
    "    imagen,\n",
    "    train_dataloader,\n",
    "    valid_dataloader,\n",
    "    training_dir,\n",
    "    optimizer,\n",
    ")\n"
   ]
  },
  {
   "cell_type": "code",
   "execution_count": 82,
   "metadata": {},
   "outputs": [
    {
     "data": {
      "image/png": "[encoded data removed]",
      "text/plain": [
       "<Figure size 1500x500 with 2 Axes>"
      ]
     },
     "metadata": {},
     "output_type": "display_data"
    }
   ],
   "source": [
    "fig, ax = plt.subplots(1, 2, figsize=(15, 5))\n",
    "for i, unet_name in enumerate(['base', 'super']):\n",
    "    ax[i].set_title(unet_name)\n",
    "    ax[i].plot(train_unet_losses[unet_name], label='train')\n",
    "    ax[i].plot(val_unet_losses[unet_name], label='val')\n",
    "    ax[i].legend()"
   ]
  },
  {
   "cell_type": "code",
   "execution_count": null,
   "metadata": {},
   "outputs": [],
   "source": []
  }
 ],
 "metadata": {
  "kernelspec": {
   "display_name": "ssdc",
   "language": "python",
   "name": "python3"
  },
  "language_info": {
   "codemirror_mode": {
    "name": "ipython",
    "version": 3
   },
   "file_extension": ".py",
   "mimetype": "text/x-python",
   "name": "python",
   "nbconvert_exporter": "python",
   "pygments_lexer": "ipython3",
   "version": "3.10.10"
  },
  "orig_nbformat": 4
 },
 "nbformat": 4,
 "nbformat_minor": 2
}
