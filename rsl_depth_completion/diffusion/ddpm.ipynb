{
 "cells": [
  {
   "cell_type": "code",
   "execution_count": 1,
   "metadata": {},
   "outputs": [
    {
     "name": "stderr",
     "output_type": "stream",
     "text": [
      "/home/master/.conda/envs/ssdc/lib/python3.10/site-packages/torchvision/io/image.py:13: UserWarning: Failed to load image Python extension: '/home/master/.conda/envs/ssdc/lib/python3.10/site-packages/torchvision/image.so: undefined symbol: _ZN3c106detail23torchInternalAssertFailEPKcS2_jS2_RKSs'If you don't plan on using image functionality from `torchvision.io`, you can ignore this warning. Otherwise, there might be something wrong with your environment. Did you have `libjpeg` or `libpng` installed before building `torchvision` from source?\n",
      "  warn(\n"
     ]
    }
   ],
   "source": [
    "import numpy as np\n",
    "import matplotlib.pyplot as plt\n",
    "import os\n",
    "from pathlib import Path\n",
    "from glob import glob\n",
    "import cv2\n",
    "import torch\n",
    "from PIL import Image\n",
    "import tqdm\n",
    "\n",
    "from inference_utils import sample\n",
    "from rsl_depth_completion.diffusion.configs import DiffusionConfig\n",
    "from torchvision import transforms\n",
    "from torch.utils.data import DataLoader\n",
    "import torchvision as tv\n",
    "from unet import Unet\n",
    "from diffusion_utils import q_sample, extract\n",
    "from utils import set_seed\n",
    "from torchvision.utils import save_image\n",
    "from schedulers import (cosine_beta_schedule,\n",
    "linear_beta_schedule,\n",
    "quadratic_beta_schedule,\n",
    "sigmoid_beta_schedule)\n",
    "import torch.nn.functional as F\n",
    "from torch.optim import Adam\n",
    "import gc\n",
    "\n",
    "from pathlib import Path\n",
    "import shutil\n",
    "\n",
    "%matplotlib inline"
   ]
  },
  {
   "attachments": {},
   "cell_type": "markdown",
   "metadata": {},
   "source": [
    "# config"
   ]
  },
  {
   "cell_type": "code",
   "execution_count": 2,
   "metadata": {},
   "outputs": [],
   "source": [
    "input_channels = 1\n",
    "timesteps = 200\n",
    "# timesteps = 30\n",
    "\n",
    "seed = 100\n",
    "set_seed(seed)\n",
    "\n",
    "run_name='test'\n",
    "results_folder = Path(\"./results\") / run_name\n",
    "shutil.rmtree(results_folder, ignore_errors=True)\n",
    "results_folder.mkdir(exist_ok = True)\n"
   ]
  },
  {
   "attachments": {},
   "cell_type": "markdown",
   "metadata": {},
   "source": [
    "# DIFFUSION"
   ]
  },
  {
   "cell_type": "code",
   "execution_count": 3,
   "metadata": {},
   "outputs": [],
   "source": [
    "# define beta schedule\n",
    "betas = linear_beta_schedule(timesteps=timesteps)\n",
    "\n",
    "# define alphas \n",
    "alphas = 1. - betas\n",
    "alphas_cumprod = torch.cumprod(alphas, axis=0)\n",
    "alphas_cumprod_prev = F.pad(alphas_cumprod[:-1], (1, 0), value=1.0)\n",
    "sqrt_recip_alphas = torch.sqrt(1.0 / alphas)\n",
    "\n",
    "# calculations for diffusion q(x_t | x_{t-1}) and others\n",
    "sqrt_alphas_cumprod = torch.sqrt(alphas_cumprod)\n",
    "sqrt_one_minus_alphas_cumprod = torch.sqrt(1. - alphas_cumprod)\n",
    "\n",
    "# calculations for posterior q(x_{t-1} | x_t, x_0)\n",
    "posterior_variance = betas * (1. - alphas_cumprod_prev) / (1. - alphas_cumprod)\n",
    "\n",
    "def extract(a, t, x_shape):\n",
    "    batch_size = t.shape[0]\n",
    "    out = a.gather(-1, t.cpu())\n",
    "    return out.reshape(batch_size, *((1,) * (len(x_shape) - 1))).to(t.device)"
   ]
  },
  {
   "cell_type": "code",
   "execution_count": 4,
   "metadata": {},
   "outputs": [],
   "source": [
    "\n",
    "diffusion_config = DiffusionConfig(\n",
    "    betas=betas,\n",
    "    sqrt_one_minus_alphas_cumprod=sqrt_one_minus_alphas_cumprod,\n",
    "    sqrt_alphas_cumprod=sqrt_alphas_cumprod,\n",
    "    sqrt_recip_alphas=sqrt_recip_alphas,\n",
    "    posterior_variance=posterior_variance,\n",
    ")"
   ]
  },
  {
   "attachments": {},
   "cell_type": "markdown",
   "metadata": {},
   "source": [
    "# LOSS"
   ]
  },
  {
   "cell_type": "code",
   "execution_count": 5,
   "metadata": {},
   "outputs": [],
   "source": [
    "def p_losses(denoise_model, x_start, t, noise=None, loss_type=\"l1\"):\n",
    "    if noise is None:\n",
    "        noise = torch.randn_like(x_start)\n",
    "\n",
    "    x_noisy = q_sample(x_start=x_start, t=t, noise=noise, diffusion_config=diffusion_config)\n",
    "    predicted_noise = denoise_model(x_noisy, t)\n",
    "\n",
    "    if loss_type == 'l1':\n",
    "        loss = F.l1_loss(noise, predicted_noise)\n",
    "    elif loss_type == 'l2':\n",
    "        loss = F.mse_loss(noise, predicted_noise)\n",
    "    elif loss_type == \"huber\":\n",
    "        loss = F.smooth_l1_loss(noise, predicted_noise)\n",
    "    else:\n",
    "        raise NotImplementedError()\n",
    "\n",
    "    return loss"
   ]
  },
  {
   "attachments": {},
   "cell_type": "markdown",
   "metadata": {},
   "source": [
    "# data setup"
   ]
  },
  {
   "cell_type": "code",
   "execution_count": 6,
   "metadata": {},
   "outputs": [],
   "source": [
    "init_image_size = (352, 1216)\n",
    "crop_image_size = (352, 1216 // 3)\n",
    "target_image_size = (152, 200)\n",
    "input_channels = 1\n",
    "batch_size = 2\n",
    "\n"
   ]
  },
  {
   "cell_type": "code",
   "execution_count": 7,
   "metadata": {},
   "outputs": [],
   "source": [
    "transform = transforms.Compose(\n",
    "    [\n",
    "        transforms.RandomHorizontalFlip(),\n",
    "        transforms.CenterCrop(crop_image_size),\n",
    "        transforms.Resize(target_image_size),\n",
    "        transforms.ToTensor(),\n",
    "        transforms.Lambda(lambda t: (t * 2) - 1),\n",
    "    ]\n",
    ")\n",
    "\n",
    "\n",
    "def train_transforms(img):\n",
    "    examples = {}\n",
    "    examples[\"pixel_values\"] = transform(img.convert(\"L\"))\n",
    "\n",
    "    return examples\n"
   ]
  },
  {
   "cell_type": "code",
   "execution_count": 8,
   "metadata": {},
   "outputs": [
    {
     "data": {
      "text/plain": [
       "torch.Size([1, 152, 200])"
      ]
     },
     "execution_count": 8,
     "metadata": {},
     "output_type": "execute_result"
    }
   ],
   "source": [
    "ds=tv.datasets.ImageFolder(root=\"/media/master/wext/msc_studies/second_semester/research_project/related_work/calibrated-backprojection-network/results/kitti_dc_val/outputs\")\n",
    "sdm_idx = ds.class_to_idx['sparse_depth']\n",
    "ds.samples = [x for x in ds.samples if x[1] == sdm_idx]\n",
    "ds.targets = [x for x in ds.targets if x == sdm_idx]\n",
    "ds.transform = train_transforms\n",
    "x = ds[0]\n",
    "x[0]['pixel_values'].shape"
   ]
  },
  {
   "attachments": {},
   "cell_type": "markdown",
   "metadata": {},
   "source": [
    "# train"
   ]
  },
  {
   "cell_type": "code",
   "execution_count": 9,
   "metadata": {},
   "outputs": [
    {
     "name": "stderr",
     "output_type": "stream",
     "text": [
      "Found cached dataset fashion_mnist (/home/master/.cache/huggingface/datasets/fashion_mnist/fashion_mnist/1.0.0/0a671f063342996f19779d38c0ab4abef9c64f757b35af8134b331c294d7ba48)\n"
     ]
    },
    {
     "data": {
      "application/vnd.jupyter.widget-view+json": {
       "model_id": "0aa71deba678457bb917a04cecc677b0",
       "version_major": 2,
       "version_minor": 0
      },
      "text/plain": [
       "  0%|          | 0/2 [00:00<?, ?it/s]"
      ]
     },
     "metadata": {},
     "output_type": "display_data"
    }
   ],
   "source": [
    "from torchvision import transforms\n",
    "from torch.utils.data import DataLoader\n",
    "from datasets import load_dataset\n",
    "\n",
    "# load dataset from the hub\n",
    "dataset = load_dataset(\"fashion_mnist\")\n",
    "target_image_size = (28, 28)\n",
    "channels = 1\n",
    "batch_size = 4\n",
    "# define image transformations (e.g. using torchvision)\n",
    "transform = transforms.Compose([\n",
    "            transforms.RandomHorizontalFlip(),\n",
    "            transforms.ToTensor(),\n",
    "            transforms.Lambda(lambda t: (t * 2) - 1)\n",
    "])\n",
    "\n",
    "# define function\n",
    "def hf_transforms(examples):\n",
    "   examples[\"pixel_values\"] = [transform(image.convert(\"L\")) for image in examples[\"image\"]]\n",
    "   del examples[\"image\"]\n",
    "\n",
    "   return examples\n",
    "\n",
    "transformed_dataset = dataset.with_transform(hf_transforms).remove_columns(\"label\")\n",
    "\n",
    "# create dataloader\n",
    "dataloader = DataLoader(transformed_dataset[\"train\"], batch_size=batch_size, shuffle=True)"
   ]
  },
  {
   "cell_type": "code",
   "execution_count": 13,
   "metadata": {},
   "outputs": [],
   "source": [
    "# subset = torch.utils.data.Subset(ds, range(0, batch_size))\n",
    "# subset = ds\n",
    "# dataloader = DataLoader(subset, batch_size=batch_size, shuffle=True)"
   ]
  },
  {
   "cell_type": "code",
   "execution_count": 14,
   "metadata": {},
   "outputs": [
    {
     "ename": "AttributeError",
     "evalue": "'Unet' object has no attribute 'time_dim'",
     "output_type": "error",
     "traceback": [
      "\u001b[0;31m---------------------------------------------------------------------------\u001b[0m",
      "\u001b[0;31mAttributeError\u001b[0m                            Traceback (most recent call last)",
      "Cell \u001b[0;32mIn[14], line 12\u001b[0m\n\u001b[1;32m      8\u001b[0m out_dim \u001b[39m=\u001b[39m \u001b[39m1\u001b[39m\n\u001b[1;32m     10\u001b[0m lr \u001b[39m=\u001b[39m \u001b[39m1e-3\u001b[39m\n\u001b[0;32m---> 12\u001b[0m model \u001b[39m=\u001b[39m Unet(\n\u001b[1;32m     13\u001b[0m     time_dim_input\u001b[39m=\u001b[39;49mtime_dim_input,\n\u001b[1;32m     14\u001b[0m     time_dim_hidden\u001b[39m=\u001b[39;49mtime_dim_hidden,\n\u001b[1;32m     15\u001b[0m     first_hidden_dim\u001b[39m=\u001b[39;49mfirst_hidden_dim,\n\u001b[1;32m     16\u001b[0m     final_conv_hidden_dim\u001b[39m=\u001b[39;49mfinal_conv_hidden_dim,\n\u001b[1;32m     17\u001b[0m     hidden_dim_scalers\u001b[39m=\u001b[39;49m[\u001b[39m1\u001b[39;49m, \u001b[39m2\u001b[39;49m, \u001b[39m4\u001b[39;49m],\n\u001b[1;32m     18\u001b[0m     out_dim\u001b[39m=\u001b[39;49mout_dim,\n\u001b[1;32m     19\u001b[0m     channels\u001b[39m=\u001b[39;49m\u001b[39m1\u001b[39;49m,\n\u001b[1;32m     20\u001b[0m     with_time_emb\u001b[39m=\u001b[39;49m\u001b[39mTrue\u001b[39;49;00m,\n\u001b[1;32m     21\u001b[0m )\n\u001b[1;32m     22\u001b[0m device \u001b[39m=\u001b[39m \u001b[39m\"\u001b[39m\u001b[39mcuda\u001b[39m\u001b[39m\"\u001b[39m \u001b[39mif\u001b[39;00m torch\u001b[39m.\u001b[39mcuda\u001b[39m.\u001b[39mis_available() \u001b[39melse\u001b[39;00m \u001b[39m\"\u001b[39m\u001b[39mcpu\u001b[39m\u001b[39m\"\u001b[39m\n\u001b[1;32m     23\u001b[0m \u001b[39m# device = \"cpu\"\u001b[39;00m\n",
      "File \u001b[0;32m/media/master/wext/msc_studies/second_semester/research_project/project/rsl_depth_completion/rsl_depth_completion/diffusion/unet.py:255\u001b[0m, in \u001b[0;36mUnet.__init__\u001b[0;34m(self, time_dim_input, time_dim_hidden, first_hidden_dim, final_conv_hidden_dim, out_dim, hidden_dim_scalers, channels, with_time_emb, resnet_block_groups, use_convnext, convnext_mult)\u001b[0m\n\u001b[1;32m    249\u001b[0m \u001b[39mfor\u001b[39;00m ind, (dim_in, dim_out) \u001b[39min\u001b[39;00m \u001b[39menumerate\u001b[39m(in_out):\n\u001b[1;32m    250\u001b[0m     is_last \u001b[39m=\u001b[39m ind \u001b[39m>\u001b[39m\u001b[39m=\u001b[39m (num_resolutions \u001b[39m-\u001b[39m \u001b[39m1\u001b[39m)\n\u001b[1;32m    252\u001b[0m     \u001b[39mself\u001b[39m\u001b[39m.\u001b[39mdowns\u001b[39m.\u001b[39mappend(\n\u001b[1;32m    253\u001b[0m         nn\u001b[39m.\u001b[39mModuleList(\n\u001b[1;32m    254\u001b[0m             [\n\u001b[0;32m--> 255\u001b[0m                 block_klass(dim_in, dim_out, time_emb_dim\u001b[39m=\u001b[39m\u001b[39mself\u001b[39;49m\u001b[39m.\u001b[39;49mtime_dim),\n\u001b[1;32m    256\u001b[0m                 block_klass(dim_out, dim_out, time_emb_dim\u001b[39m=\u001b[39m\u001b[39mself\u001b[39m\u001b[39m.\u001b[39mtime_dim),\n\u001b[1;32m    257\u001b[0m                 Residual(PreNorm(dim_out, LinearAttention(dim_out))),\n\u001b[1;32m    258\u001b[0m                 Downsample(dim_out) \u001b[39mif\u001b[39;00m \u001b[39mnot\u001b[39;00m is_last \u001b[39melse\u001b[39;00m nn\u001b[39m.\u001b[39mIdentity(),\n\u001b[1;32m    259\u001b[0m             ]\n\u001b[1;32m    260\u001b[0m         )\n\u001b[1;32m    261\u001b[0m     )\n\u001b[1;32m    263\u001b[0m mid_dim \u001b[39m=\u001b[39m \u001b[39mself\u001b[39m\u001b[39m.\u001b[39mhidden_dims[\u001b[39m-\u001b[39m\u001b[39m1\u001b[39m]\n\u001b[1;32m    264\u001b[0m \u001b[39mself\u001b[39m\u001b[39m.\u001b[39mmid_block1 \u001b[39m=\u001b[39m block_klass(mid_dim, mid_dim, time_emb_dim\u001b[39m=\u001b[39m\u001b[39mself\u001b[39m\u001b[39m.\u001b[39mtime_dim)\n",
      "File \u001b[0;32m~/.conda/envs/ssdc/lib/python3.10/site-packages/torch/nn/modules/module.py:1614\u001b[0m, in \u001b[0;36mModule.__getattr__\u001b[0;34m(self, name)\u001b[0m\n\u001b[1;32m   1612\u001b[0m     \u001b[39mif\u001b[39;00m name \u001b[39min\u001b[39;00m modules:\n\u001b[1;32m   1613\u001b[0m         \u001b[39mreturn\u001b[39;00m modules[name]\n\u001b[0;32m-> 1614\u001b[0m \u001b[39mraise\u001b[39;00m \u001b[39mAttributeError\u001b[39;00m(\u001b[39m\"\u001b[39m\u001b[39m'\u001b[39m\u001b[39m{}\u001b[39;00m\u001b[39m'\u001b[39m\u001b[39m object has no attribute \u001b[39m\u001b[39m'\u001b[39m\u001b[39m{}\u001b[39;00m\u001b[39m'\u001b[39m\u001b[39m\"\u001b[39m\u001b[39m.\u001b[39mformat(\n\u001b[1;32m   1615\u001b[0m     \u001b[39mtype\u001b[39m(\u001b[39mself\u001b[39m)\u001b[39m.\u001b[39m\u001b[39m__name__\u001b[39m, name))\n",
      "\u001b[0;31mAttributeError\u001b[0m: 'Unet' object has no attribute 'time_dim'"
     ]
    }
   ],
   "source": [
    "gc.collect()\n",
    "torch.cuda.empty_cache()\n",
    "\n",
    "time_dim_input = 28\n",
    "time_dim_hidden = 112\n",
    "first_hidden_dim = 18\n",
    "final_conv_hidden_dim = 28\n",
    "out_dim = 1\n",
    "\n",
    "lr = 1e-3\n",
    "\n",
    "model = Unet(\n",
    "    time_dim_input=time_dim_input,\n",
    "    time_dim_hidden=time_dim_hidden,\n",
    "    first_hidden_dim=first_hidden_dim,\n",
    "    final_conv_hidden_dim=final_conv_hidden_dim,\n",
    "    hidden_dim_scalers=[1, 2, 4],\n",
    "    out_dim=out_dim,\n",
    "    channels=1,\n",
    "    with_time_emb=True,\n",
    ")\n",
    "device = \"cuda\" if torch.cuda.is_available() else \"cpu\"\n",
    "# device = \"cpu\"\n",
    "\n",
    "model = model.to(device)\n",
    "optimizer = Adam(model.parameters(), lr=lr)"
   ]
  },
  {
   "cell_type": "code",
   "execution_count": 15,
   "metadata": {},
   "outputs": [
    {
     "name": "stderr",
     "output_type": "stream",
     "text": [
      "Epoch:   0%|          | 0/700 [00:00<?, ?it/s]"
     ]
    },
    {
     "name": "stdout",
     "output_type": "stream",
     "text": [
      "Loss: 0.4943162500858307\n"
     ]
    },
    {
     "name": "stderr",
     "output_type": "stream",
     "text": [
      "sampling loop time step: 100%|██████████| 200/200 [00:00<00:00, 248.02it/s]\n",
      "Epoch:   3%|▎         | 22/700 [00:01<00:25, 26.13it/s]"
     ]
    },
    {
     "name": "stdout",
     "output_type": "stream",
     "text": [
      "Loss: 0.4311368763446808\n",
      "Loss: 0.4311068058013916\n"
     ]
    },
    {
     "name": "stderr",
     "output_type": "stream",
     "text": [
      "Epoch:   6%|▌         | 43/700 [00:01<00:13, 47.58it/s]"
     ]
    },
    {
     "name": "stdout",
     "output_type": "stream",
     "text": [
      "Loss: 0.4111366271972656\n",
      "Loss: 0.3757578730583191\n"
     ]
    },
    {
     "name": "stderr",
     "output_type": "stream",
     "text": [
      "Epoch:   8%|▊         | 57/700 [00:01<00:11, 54.85it/s]"
     ]
    },
    {
     "name": "stdout",
     "output_type": "stream",
     "text": [
      "Loss: 0.3072783350944519\n",
      "Loss: 0.3003098964691162\n"
     ]
    },
    {
     "name": "stderr",
     "output_type": "stream",
     "text": [
      "Epoch:  11%|█         | 78/700 [00:02<00:10, 61.48it/s]"
     ]
    },
    {
     "name": "stdout",
     "output_type": "stream",
     "text": [
      "Loss: 0.2219047248363495\n",
      "Loss: 0.1413467675447464\n"
     ]
    },
    {
     "name": "stderr",
     "output_type": "stream",
     "text": [
      "Epoch:  14%|█▍        | 99/700 [00:02<00:09, 63.62it/s]"
     ]
    },
    {
     "name": "stdout",
     "output_type": "stream",
     "text": [
      "Loss: 0.22260145843029022\n",
      "Loss: 0.20302441716194153\n"
     ]
    },
    {
     "name": "stderr",
     "output_type": "stream",
     "text": [
      "sampling loop time step: 100%|██████████| 200/200 [00:00<00:00, 262.22it/s]\n",
      "Epoch:  17%|█▋        | 120/700 [00:03<00:18, 31.06it/s]"
     ]
    },
    {
     "name": "stdout",
     "output_type": "stream",
     "text": [
      "Loss: 0.14073947072029114\n",
      "Loss: 0.1664862334728241\n"
     ]
    },
    {
     "name": "stderr",
     "output_type": "stream",
     "text": [
      "Epoch:  20%|██        | 140/700 [00:04<00:12, 46.40it/s]"
     ]
    },
    {
     "name": "stdout",
     "output_type": "stream",
     "text": [
      "Loss: 0.19819705188274384\n",
      "Loss: 0.2167242020368576\n"
     ]
    },
    {
     "name": "stderr",
     "output_type": "stream",
     "text": [
      "Epoch:  23%|██▎       | 161/700 [00:04<00:09, 58.59it/s]"
     ]
    },
    {
     "name": "stdout",
     "output_type": "stream",
     "text": [
      "Loss: 0.0729077085852623\n",
      "Loss: 0.12709519267082214\n"
     ]
    },
    {
     "name": "stderr",
     "output_type": "stream",
     "text": [
      "Epoch:  26%|██▌       | 182/700 [00:04<00:08, 64.20it/s]"
     ]
    },
    {
     "name": "stdout",
     "output_type": "stream",
     "text": [
      "Loss: 0.1979968398809433\n",
      "Loss: 0.20806339383125305\n"
     ]
    },
    {
     "name": "stderr",
     "output_type": "stream",
     "text": [
      "Epoch:  28%|██▊       | 196/700 [00:04<00:07, 65.49it/s]"
     ]
    },
    {
     "name": "stdout",
     "output_type": "stream",
     "text": [
      "Loss: 0.07105408608913422\n",
      "Loss: 0.08597666025161743\n"
     ]
    },
    {
     "name": "stderr",
     "output_type": "stream",
     "text": [
      "sampling loop time step: 100%|██████████| 200/200 [00:00<00:00, 267.54it/s]\n",
      "Epoch:  31%|███       | 217/700 [00:05<00:15, 31.79it/s]"
     ]
    },
    {
     "name": "stdout",
     "output_type": "stream",
     "text": [
      "Loss: 0.07162799686193466\n",
      "Loss: 0.09354805946350098\n"
     ]
    },
    {
     "name": "stderr",
     "output_type": "stream",
     "text": [
      "Epoch:  34%|███▍      | 238/700 [00:06<00:10, 45.84it/s]"
     ]
    },
    {
     "name": "stdout",
     "output_type": "stream",
     "text": [
      "Loss: 0.07266940921545029\n",
      "Loss: 0.05755151808261871\n"
     ]
    },
    {
     "name": "stderr",
     "output_type": "stream",
     "text": [
      "Epoch:  37%|███▋      | 259/700 [00:06<00:07, 56.50it/s]"
     ]
    },
    {
     "name": "stdout",
     "output_type": "stream",
     "text": [
      "Loss: 0.08296137303113937\n",
      "Loss: 0.08357637375593185\n"
     ]
    },
    {
     "name": "stderr",
     "output_type": "stream",
     "text": [
      "Epoch:  40%|████      | 280/700 [00:06<00:06, 60.76it/s]"
     ]
    },
    {
     "name": "stdout",
     "output_type": "stream",
     "text": [
      "Loss: 0.08883783221244812\n",
      "Loss: 0.17821471393108368\n"
     ]
    },
    {
     "name": "stderr",
     "output_type": "stream",
     "text": [
      "Epoch:  42%|████▏     | 294/700 [00:07<00:06, 62.99it/s]"
     ]
    },
    {
     "name": "stdout",
     "output_type": "stream",
     "text": [
      "Loss: 0.07612600177526474\n",
      "Loss: 0.1007077544927597\n"
     ]
    },
    {
     "name": "stderr",
     "output_type": "stream",
     "text": [
      "sampling loop time step: 100%|██████████| 200/200 [00:00<00:00, 269.53it/s]\n",
      "Epoch:  46%|████▌     | 320/700 [00:08<00:10, 36.00it/s]"
     ]
    },
    {
     "name": "stdout",
     "output_type": "stream",
     "text": [
      "Loss: 0.11467824131250381\n",
      "Loss: 0.08215080946683884\n"
     ]
    },
    {
     "name": "stderr",
     "output_type": "stream",
     "text": [
      "Epoch:  49%|████▊     | 341/700 [00:08<00:06, 52.17it/s]"
     ]
    },
    {
     "name": "stdout",
     "output_type": "stream",
     "text": [
      "Loss: 0.06532268971204758\n",
      "Loss: 0.06836473196744919\n"
     ]
    },
    {
     "name": "stderr",
     "output_type": "stream",
     "text": [
      "Epoch:  52%|█████▏    | 362/700 [00:09<00:06, 55.24it/s]"
     ]
    },
    {
     "name": "stdout",
     "output_type": "stream",
     "text": [
      "Loss: 0.04881279543042183\n",
      "Loss: 0.10254748910665512\n"
     ]
    },
    {
     "name": "stderr",
     "output_type": "stream",
     "text": [
      "Epoch:  55%|█████▍    | 383/700 [00:09<00:05, 62.08it/s]"
     ]
    },
    {
     "name": "stdout",
     "output_type": "stream",
     "text": [
      "Loss: 0.059693899005651474\n",
      "Loss: 0.0474712997674942\n"
     ]
    },
    {
     "name": "stderr",
     "output_type": "stream",
     "text": [
      "Epoch:  57%|█████▋    | 397/700 [00:09<00:05, 58.77it/s]"
     ]
    },
    {
     "name": "stdout",
     "output_type": "stream",
     "text": [
      "Loss: 0.0787932351231575\n",
      "Loss: 0.07699572294950485\n"
     ]
    },
    {
     "name": "stderr",
     "output_type": "stream",
     "text": [
      "sampling loop time step: 100%|██████████| 200/200 [00:00<00:00, 270.30it/s]\n",
      "Epoch:  60%|█████▉    | 418/700 [00:10<00:08, 31.36it/s]"
     ]
    },
    {
     "name": "stdout",
     "output_type": "stream",
     "text": [
      "Loss: 0.09637196362018585\n",
      "Loss: 0.12321306765079498\n"
     ]
    },
    {
     "name": "stderr",
     "output_type": "stream",
     "text": [
      "Epoch:  63%|██████▎   | 439/700 [00:11<00:05, 48.11it/s]"
     ]
    },
    {
     "name": "stdout",
     "output_type": "stream",
     "text": [
      "Loss: 0.04252731427550316\n",
      "Loss: 0.1525062471628189\n"
     ]
    },
    {
     "name": "stderr",
     "output_type": "stream",
     "text": [
      "Epoch:  66%|██████▌   | 461/700 [00:11<00:04, 58.12it/s]"
     ]
    },
    {
     "name": "stdout",
     "output_type": "stream",
     "text": [
      "Loss: 0.12656979262828827\n",
      "Loss: 0.1295190155506134\n"
     ]
    },
    {
     "name": "stderr",
     "output_type": "stream",
     "text": [
      "Epoch:  69%|██████▉   | 482/700 [00:11<00:03, 63.56it/s]"
     ]
    },
    {
     "name": "stdout",
     "output_type": "stream",
     "text": [
      "Loss: 0.05930177494883537\n",
      "Loss: 0.12068821489810944\n"
     ]
    },
    {
     "name": "stderr",
     "output_type": "stream",
     "text": [
      "Epoch:  71%|███████   | 496/700 [00:11<00:03, 62.95it/s]"
     ]
    },
    {
     "name": "stdout",
     "output_type": "stream",
     "text": [
      "Loss: 0.027046168223023415\n",
      "Loss: 0.0757460743188858\n"
     ]
    },
    {
     "name": "stderr",
     "output_type": "stream",
     "text": [
      "sampling loop time step: 100%|██████████| 200/200 [00:00<00:00, 271.88it/s]\n",
      "Epoch:  74%|███████▍  | 517/700 [00:13<00:05, 31.24it/s]"
     ]
    },
    {
     "name": "stdout",
     "output_type": "stream",
     "text": [
      "Loss: 0.0464770533144474\n",
      "Loss: 0.06561027467250824\n"
     ]
    },
    {
     "name": "stderr",
     "output_type": "stream",
     "text": [
      "Epoch:  78%|███████▊  | 544/700 [00:13<00:03, 50.99it/s]"
     ]
    },
    {
     "name": "stdout",
     "output_type": "stream",
     "text": [
      "Loss: 0.051368243992328644\n",
      "Loss: 0.13352981209754944\n"
     ]
    },
    {
     "name": "stderr",
     "output_type": "stream",
     "text": [
      "Epoch:  80%|███████▉  | 558/700 [00:13<00:02, 58.37it/s]"
     ]
    },
    {
     "name": "stdout",
     "output_type": "stream",
     "text": [
      "Loss: 0.07844125479459763\n",
      "Loss: 0.06545897573232651\n"
     ]
    },
    {
     "name": "stderr",
     "output_type": "stream",
     "text": [
      "Epoch:  83%|████████▎ | 579/700 [00:13<00:01, 64.01it/s]"
     ]
    },
    {
     "name": "stdout",
     "output_type": "stream",
     "text": [
      "Loss: 0.054628822952508926\n",
      "Loss: 0.08642476052045822\n"
     ]
    },
    {
     "name": "stderr",
     "output_type": "stream",
     "text": [
      "Epoch:  86%|████████▌ | 600/700 [00:14<00:01, 65.83it/s]"
     ]
    },
    {
     "name": "stdout",
     "output_type": "stream",
     "text": [
      "Loss: 0.06360828131437302\n",
      "Loss: 0.048084769397974014\n"
     ]
    },
    {
     "name": "stderr",
     "output_type": "stream",
     "text": [
      "sampling loop time step: 100%|██████████| 200/200 [00:00<00:00, 269.29it/s]\n",
      "Epoch:  89%|████████▊ | 621/700 [00:15<00:02, 32.15it/s]"
     ]
    },
    {
     "name": "stdout",
     "output_type": "stream",
     "text": [
      "Loss: 0.04940009489655495\n",
      "Loss: 0.09530138224363327\n"
     ]
    },
    {
     "name": "stderr",
     "output_type": "stream",
     "text": [
      "Epoch:  91%|█████████ | 635/700 [00:15<00:01, 43.56it/s]"
     ]
    },
    {
     "name": "stdout",
     "output_type": "stream",
     "text": [
      "Loss: 0.06834215670824051\n",
      "Loss: 0.06003745645284653\n"
     ]
    },
    {
     "name": "stderr",
     "output_type": "stream",
     "text": [
      "Epoch:  95%|█████████▍| 663/700 [00:16<00:00, 58.24it/s]"
     ]
    },
    {
     "name": "stdout",
     "output_type": "stream",
     "text": [
      "Loss: 0.09860815107822418\n",
      "Loss: 0.11746770143508911\n"
     ]
    },
    {
     "name": "stderr",
     "output_type": "stream",
     "text": [
      "Epoch:  98%|█████████▊| 684/700 [00:16<00:00, 63.69it/s]"
     ]
    },
    {
     "name": "stdout",
     "output_type": "stream",
     "text": [
      "Loss: 0.06983982026576996\n",
      "Loss: 0.056205105036497116\n"
     ]
    },
    {
     "name": "stderr",
     "output_type": "stream",
     "text": [
      "Epoch: 100%|██████████| 700/700 [00:16<00:00, 42.21it/s]"
     ]
    },
    {
     "name": "stdout",
     "output_type": "stream",
     "text": [
      "Loss: 0.09734310954809189\n"
     ]
    },
    {
     "name": "stderr",
     "output_type": "stream",
     "text": [
      "\n"
     ]
    }
   ],
   "source": [
    "\n",
    "epochs = 700\n",
    "save_and_sample_every = 2000\n",
    "\n",
    "for epoch in tqdm.tqdm(range(epochs), desc=\"Epoch\"):\n",
    "    for step, batch in enumerate(dataloader):\n",
    "    # for step, batch in tqdm.tqdm(enumerate(dataloader), desc=\"Step\", total=len(dataloader)):\n",
    "        optimizer.zero_grad()\n",
    "\n",
    "        pixel_values = batch[\"pixel_values\"].to(device)\n",
    "        # pixel_values = batch[0][\"pixel_values\"].to(device)\n",
    "        batch_size = pixel_values.shape[0]\n",
    "\n",
    "        t = torch.randint(0, timesteps, (batch_size,), device=device).long()\n",
    "\n",
    "        loss = p_losses(model, pixel_values, t, loss_type=\"huber\")\n",
    "\n",
    "        if epoch % 10 == 0:\n",
    "            print(\"Loss:\", loss.item())\n",
    "\n",
    "        loss.backward()\n",
    "        optimizer.step()\n",
    "\n",
    "        if step == 0 and epoch % 100 == 0:\n",
    "            milestone = step // save_and_sample_every\n",
    "            all_images = np.array(\n",
    "                sample(\n",
    "                    model,\n",
    "                    target_image_size,\n",
    "                    batch_size=1,\n",
    "                    channels=input_channels,\n",
    "                    timesteps=timesteps,\n",
    "                    diffusion_config=diffusion_config,\n",
    "                )\n",
    "            )\n",
    "            all_images = (all_images + 1) * 0.5\n",
    "            save_image(\n",
    "                torch.from_numpy(all_images).reshape(\n",
    "                    -1, input_channels, *target_image_size\n",
    "                ),\n",
    "                str(results_folder / f\"sample-full-{epoch}-{milestone}.png\"),\n",
    "                nrow=10,\n",
    "            )\n",
    "        break\n"
   ]
  },
  {
   "attachments": {},
   "cell_type": "markdown",
   "metadata": {},
   "source": [
    "# INFERENCE"
   ]
  },
  {
   "cell_type": "code",
   "execution_count": 45,
   "metadata": {},
   "outputs": [
    {
     "name": "stderr",
     "output_type": "stream",
     "text": [
      "sampling loop time step: 100%|██████████| 200/200 [00:01<00:00, 159.03it/s]\n"
     ]
    }
   ],
   "source": [
    "# sample 64 images\n",
    "samples = sample(model, img_size=(28,28), batch_size=4, timesteps=timesteps,channels=input_channels, diffusion_config=diffusion_config)\n",
    "# show a random one"
   ]
  },
  {
   "cell_type": "code",
   "execution_count": 46,
   "metadata": {},
   "outputs": [
    {
     "data": {
      "text/plain": [
       "<matplotlib.image.AxesImage at 0x7fe6119bbe20>"
      ]
     },
     "execution_count": 46,
     "metadata": {},
     "output_type": "execute_result"
    },
    {
     "data": {
      "image/png": "[encoded data removed]",
      "text/plain": [
       "<Figure size 640x480 with 1 Axes>"
      ]
     },
     "metadata": {},
     "output_type": "display_data"
    }
   ],
   "source": [
    "random_index = 3\n",
    "plt.imshow(samples[-1][random_index].reshape(*(28,28), input_channels), cmap=\"gray\")"
   ]
  },
  {
   "cell_type": "code",
   "execution_count": 49,
   "metadata": {},
   "outputs": [
    {
     "data": {
      "image/png": "[encoded data removed]",
      "text/plain": [
       "<Figure size 640x480 with 1 Axes>"
      ]
     },
     "metadata": {},
     "output_type": "display_data"
    }
   ],
   "source": [
    "from utils import animate_diffusion\n",
    "animate_diffusion(samples, timesteps, (*target_image_size, input_channels))"
   ]
  }
 ],
 "metadata": {
  "kernelspec": {
   "display_name": "ssdc",
   "language": "python",
   "name": "python3"
  },
  "language_info": {
   "codemirror_mode": {
    "name": "ipython",
    "version": 3
   },
   "file_extension": ".py",
   "mimetype": "text/x-python",
   "name": "python",
   "nbconvert_exporter": "python",
   "pygments_lexer": "ipython3",
   "version": "3.10.10"
  },
  "orig_nbformat": 4
 },
 "nbformat": 4,
 "nbformat_minor": 2
}
